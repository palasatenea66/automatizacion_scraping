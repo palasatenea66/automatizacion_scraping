{
  "cells": [
    {
      "cell_type": "markdown",
      "metadata": {
        "id": "WzQ-fs485J2g"
      },
      "source": [
        "# Ejercicios APIs Ocultas"
      ]
    },
    {
      "cell_type": "markdown",
      "metadata": {
        "id": "IAPUL4185J2i"
      },
      "source": [
        "# Argenprop\n",
        "\n",
        "Elegir un departamento en palermo que les guste desde [este link](https://www.argenprop.com/departamento-venta-barrio-palermo) y descargar sus datos utilizando la API oculta de argenprop.\n"
      ]
    },
    {
      "cell_type": "code",
      "execution_count": null,
      "metadata": {
        "id": "MIhv4BFq5J2k"
      },
      "outputs": [],
      "source": [
        "import requests\n",
        "import re\n",
        "\n",
        "# Elegi el departamento con este link\n",
        "departamento_link = 'https://www.argenprop.com/departamento-en-venta-en-palermo-hollywood-4-ambientes--12071730'\n",
        "api_url = 'https://api.sosiva451.com/avisos/{id}'\n",
        "\n",
        "departamento_id = re.findall(r'--(\\d+)', departamento_link)[0]\n",
        "\n",
        "response = requests.get(api_url.format(id=departamento_id)).json()"
      ]
    },
    {
      "cell_type": "code",
      "source": [
        "# Revisar los valores\n",
        "for row, valor in response.items():\n",
        "  print(f'{row:<28}: {valor}')"
      ],
      "metadata": {
        "id": "h87J9WZeLJpY"
      },
      "execution_count": null,
      "outputs": []
    },
    {
      "cell_type": "code",
      "source": [
        "def get_depto_info(contenido):\n",
        "  \"\"\"\n",
        "  Extrae los datos de las columnas de interes del contenido de un departamento\n",
        "  Devuelve un diccionario con los resultados\n",
        "  \"\"\"\n",
        "  columnas_interes = [\n",
        "      'IdAviso', 'TipoPropiedad_t', 'TipoOperacion_t', 'FechaPublicacionAviso_dt',\n",
        "      'MontoNormalizado_d', 'SuperficieCubierta_d', 'SuperficieTotal_d', \n",
        "      'Titulo_t', 'Direccion_NombreCalle_t', 'Direccion_Numero_i',\n",
        "      'Barrio_t', 'Localidad_t', 'Provincia_t',\n",
        "      'Pais_t','CantidadDormitorios_i', 'CantidadAmbientes_i',\n",
        "      'TelefonoWhatsApp_i', 'Direccion_Latitud_d', 'Direccion_Longitud_d'\n",
        "    ]\n",
        "  data = dict()\n",
        "  for row, valor in contenido.items():\n",
        "    if row in columnas_interes:\n",
        "      data[row] = valor\n",
        "\n",
        "  return data\n",
        "\n",
        "get_depto_info(response)"
      ],
      "metadata": {
        "colab": {
          "base_uri": "https://localhost:8080/"
        },
        "id": "8jRRYeqKLTAi",
        "outputId": "20cacf7a-8dc1-4352-fc00-24f13547a33e"
      },
      "execution_count": null,
      "outputs": [
        {
          "output_type": "execute_result",
          "data": {
            "text/plain": [
              "{'IdAviso': 12071730,\n",
              " 'TipoPropiedad_t': 'Departamento',\n",
              " 'TipoOperacion_t': 'Venta',\n",
              " 'MontoNormalizado_d': 205000.0,\n",
              " 'SuperficieCubierta_d': 150.0,\n",
              " 'SuperficieTotal_d': 150.0,\n",
              " 'Titulo_t': 'Espec Depto! M/lum! Excel Distrib! T/exter! Patio! Toil! S/expen! P/blindada! Lav indep! Apto! OPORT',\n",
              " 'Barrio_t': 'Palermo',\n",
              " 'Localidad_t': 'Capital Federal',\n",
              " 'Provincia_t': 'Capital Federal',\n",
              " 'Pais_t': 'Argentina',\n",
              " 'Direccion_NombreCalle_t': 'Bonpland',\n",
              " 'Direccion_Numero_i': 2400,\n",
              " 'Direccion_Latitud_d': -34.577451,\n",
              " 'Direccion_Longitud_d': -58.430507,\n",
              " 'FechaPublicacionAviso_dt': '2022-10-27T19:27:49Z',\n",
              " 'CantidadDormitorios_i': 3,\n",
              " 'CantidadAmbientes_i': 4,\n",
              " 'TelefonoWhatsApp_i': '5491139136402'}"
            ]
          },
          "metadata": {},
          "execution_count": 7
        }
      ]
    },
    {
      "cell_type": "code",
      "source": [
        "# Trabajar con las publicaciones similares\n",
        "# Se arma una lista con la misma informacion\n",
        "api_similares_url = 'https://api.sosiva451.com/avisos/similares/{id}'\n",
        "response_similares = requests.get(api_similares_url.format(id=departamento_id)).json()\n",
        "\n",
        "data_similares = [get_depto_info(depto_info) for depto_info in response_similares['Results']]\n",
        "data_similares"
      ],
      "metadata": {
        "colab": {
          "base_uri": "https://localhost:8080/"
        },
        "id": "ImiGOzAFNitV",
        "outputId": "5e67cdea-f9e3-4d50-d029-13cd658d6036"
      },
      "execution_count": null,
      "outputs": [
        {
          "output_type": "execute_result",
          "data": {
            "text/plain": [
              "[{'IdAviso': 6663543,\n",
              "  'TipoOperacion_t': 'Venta',\n",
              "  'TipoPropiedad_t': 'Departamento',\n",
              "  'Localidad_t': 'Capital Federal',\n",
              "  'Barrio_t': 'Palermo',\n",
              "  'MontoNormalizado_d': 170000.0,\n",
              "  'Titulo_t': 'dos ambientes en duplex',\n",
              "  'Direccion_NombreCalle_t': 'Niceto Vega  5700'},\n",
              " {'IdAviso': 6645138,\n",
              "  'TipoOperacion_t': 'Venta',\n",
              "  'TipoPropiedad_t': 'Departamento',\n",
              "  'Localidad_t': 'Capital Federal',\n",
              "  'Barrio_t': 'Palermo',\n",
              "  'MontoNormalizado_d': 152000.0,\n",
              "  'Titulo_t': 'Excelente 2amb,vista abierta! Categoria,Carranza 2200',\n",
              "  'Direccion_NombreCalle_t': 'Carranza'},\n",
              " {'IdAviso': 6470556,\n",
              "  'TipoOperacion_t': 'Venta',\n",
              "  'TipoPropiedad_t': 'Departamento',\n",
              "  'Localidad_t': 'Capital Federal',\n",
              "  'Barrio_t': 'Palermo',\n",
              "  'MontoNormalizado_d': 160000.0,\n",
              "  'Titulo_t': 'RETASADO!!!!! AMPLIO 2MB CON COCHERA FIJA',\n",
              "  'Direccion_NombreCalle_t': 'Charcas'},\n",
              " {'IdAviso': 6581998,\n",
              "  'TipoOperacion_t': 'Venta',\n",
              "  'TipoPropiedad_t': 'Departamento',\n",
              "  'Localidad_t': 'Capital Federal',\n",
              "  'Barrio_t': 'Palermo',\n",
              "  'MontoNormalizado_d': 225000.0,\n",
              "  'Titulo_t': 'Honduras 6000 - 80 mts - 3 Dormitorios - Balcón',\n",
              "  'Direccion_NombreCalle_t': 'HONDURAS'},\n",
              " {'IdAviso': 6562362,\n",
              "  'TipoOperacion_t': 'Venta',\n",
              "  'TipoPropiedad_t': 'Departamento',\n",
              "  'Localidad_t': 'Capital Federal',\n",
              "  'Barrio_t': 'Palermo',\n",
              "  'MontoNormalizado_d': 159799.0,\n",
              "  'Titulo_t': 'CORDOBA 5515 - DEPTO MONOAMB DIVISIBLE A ESTRENAR CON PATIO',\n",
              "  'Direccion_NombreCalle_t': 'Cordoba  5500 1°'}]"
            ]
          },
          "metadata": {},
          "execution_count": 8
        }
      ]
    }
  ],
  "metadata": {
    "kernelspec": {
      "display_name": "Python 3",
      "language": "python",
      "name": "python3"
    },
    "language_info": {
      "codemirror_mode": {
        "name": "ipython",
        "version": 3
      },
      "file_extension": ".py",
      "mimetype": "text/x-python",
      "name": "python",
      "nbconvert_exporter": "python",
      "pygments_lexer": "ipython3",
      "version": "3.8.5"
    },
    "colab": {
      "provenance": []
    }
  },
  "nbformat": 4,
  "nbformat_minor": 0
}
{
  "cells": [
    {
      "cell_type": "markdown",
      "metadata": {
        "id": "Yw8Ue2cTbM0X"
      },
      "source": [
        "<a href=\"https://colab.research.google.com/github/institutohumai/cursos-python/blob/master/Scraping/2_HTTP_Avanzado/ejecicio/apis-ocultas.ipynb\" target=\"_parent\"><img src=\"https://colab.research.google.com/assets/colab-badge.svg\" alt=\"Open In Colab\" data-canonical-src=\"https://colab.research.google.com/assets/colab-badge.svg\"></a>"
      ]
    },
    {
      "cell_type": "markdown",
      "metadata": {
        "id": "zCvAIGF0bM0Z"
      },
      "source": [
        "# Ejercicios APIs Ocultas"
      ]
    },
    {
      "cell_type": "markdown",
      "metadata": {
        "id": "eHj-N6RZbM0Z"
      },
      "source": [
        "# Argenprop\n",
        "\n",
        "Elegir un departamento en palermo que les guste desde [este link](https://www.argenprop.com/departamento-venta-barrio-palermo) y descargar sus datos utilizando la API oculta de argenprop.\n"
      ]
    },
    {
      "cell_type": "code",
      "execution_count": null,
      "metadata": {
        "id": "qK1-rr0SbM0Z"
      },
      "outputs": [],
      "source": []
    },
    {
      "cell_type": "markdown",
      "metadata": {
        "id": "gkeVJ-_7bM0a"
      },
      "source": [
        "# Twitter\n",
        "\n",
        "Intenten utilizar la API oculta de twitter para descargar los primeros 20 tweets de pyconar: https://twitter.com/pyconar"
      ]
    },
    {
      "cell_type": "code",
      "execution_count": null,
      "metadata": {
        "id": "G0ZiItrgbM0a"
      },
      "outputs": [],
      "source": []
    }
  ],
  "metadata": {
    "kernelspec": {
      "display_name": "Python 3",
      "language": "python",
      "name": "python3"
    },
    "language_info": {
      "codemirror_mode": {
        "name": "ipython",
        "version": 3
      },
      "file_extension": ".py",
      "mimetype": "text/x-python",
      "name": "python",
      "nbconvert_exporter": "python",
      "pygments_lexer": "ipython3",
      "version": "3.8.5"
    },
    "colab": {
      "provenance": []
    }
  },
  "nbformat": 4,
  "nbformat_minor": 0
}
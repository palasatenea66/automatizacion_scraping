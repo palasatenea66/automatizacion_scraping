{
  "nbformat": 4,
  "nbformat_minor": 0,
  "metadata": {
    "colab": {
      "provenance": []
    },
    "kernelspec": {
      "name": "python3",
      "display_name": "Python 3"
    },
    "language_info": {
      "name": "python"
    }
  },
  "cells": [
    {
      "cell_type": "markdown",
      "source": [
        "# Scraper de Osde ⚕\n",
        "\n",
        "Se le pide conocer la cantidad de prestadores de la especialidad de Cirugia General para el plan 310, que hay en cada una de las siguientes provincias del Interior (tomando en cuenta todas las localidades de cada Provincia):\n",
        "\n",
        "- Tierra del Fuego\n",
        "- Entre Rios\n",
        "- Cordoba\n",
        "- Mendoza\n",
        "- Neuquen\n",
        "- Tucuman\n",
        "- La Pampa\n",
        "\n",
        "La informacion que necesita la encontrar en la siguiente pagina: [`https://www.osde.com.ar/index.html#!cartilla.html`](https://www.osde.com.ar/index.html#!cartilla.html), recuerde interactuar con la pagina para encontras las apis que necesita.\n",
        "\n",
        "---\n",
        "\n",
        "Usted propone la siguiente estrategia para el armado del proceso **ETL**:\n",
        "\n",
        "### Investigacion:\n",
        "\n",
        "- Buscar posibles APIs ocultas en la pagina que den informacion.\n",
        "- Buscar si existe un parametro en la url que me permita simplemente cambiar un valor dentro de la url nada mas, y asi hacer un proceso iterativo para conseguir al informacion de todas las provincias. (Recuerda que si estas haciendo un proceso iterativo de este estilo puedes paralelizarlo).\n",
        "\n",
        "### Extraccion:\n",
        "\n",
        "- Llamar la API usando la libreria `requests`.\n",
        "- Implementar el paralelismo usando la libreria `multiprocessing`\n",
        "- Si no sabe como implementarlo siempre puede hacerlo con un for loop.\n",
        "\n",
        "### Transformacion\n",
        "- Armar un dicionario con la informacion pedida. De este estilo:\n",
        "    - ```python\n",
        "      resultados = {\n",
        "          \"provincias\": [\"Tierra del Fuego\", \"Entre Rios\", ... ],\n",
        "          \"cantidad_de_prestadores\": [23, 12, ... ],\n",
        "      }\n",
        "      ```\n",
        "    \n",
        "### Cargado (OPCIONAL):\n",
        "\n",
        "- Armar un Dataframe con la libreria `pandas`.\n",
        "- Exportar el Dataframe como un csv.\n",
        "\n",
        "---\n",
        "## NOTA IMPORTANTE SOBRE EL EJERCICIO:\n",
        "El ejercicio no solo es avanzado porque te presenta la posibilidad de implementar paralelismo, tambien presenta una dificultad porque la api a usar tiene una gran cantidad de parametros, en el proceso de scrapear mediante apis ocultas tambien debemos muchas veces limpiar las urls para que solo usen la informacion minima necesaria, muchas veces hay parametros que realmente no tienen influencia sobre la respuesta final del request y deben ser eliminados de la url por motivos de limpieza en el codigo y facilidad de desarrollo. En este caso los parametros a usar son solamente:\n",
        "- metodo\n",
        "- rubroId\n",
        "- provinciaId\n",
        "- provinciaTipo\n",
        "- localidadId\n",
        "- planId\n",
        "- especialidadId"
      ],
      "metadata": {
        "id": "QDC7V09WEf_G"
      }
    },
    {
      "cell_type": "code",
      "execution_count": null,
      "metadata": {
        "id": "kib4bbEX-pkB"
      },
      "outputs": [],
      "source": [
        "import requests\n",
        "import multiprocessing as mp\n",
        "import os\n",
        "import pandas"
      ]
    },
    {
      "cell_type": "code",
      "source": [],
      "metadata": {
        "id": "U7J9VJlJHMqg"
      },
      "execution_count": null,
      "outputs": []
    }
  ]
}
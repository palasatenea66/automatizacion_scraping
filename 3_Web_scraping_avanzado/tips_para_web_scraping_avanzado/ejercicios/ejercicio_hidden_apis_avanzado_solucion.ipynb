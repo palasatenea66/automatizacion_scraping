{
  "nbformat": 4,
  "nbformat_minor": 0,
  "metadata": {
    "colab": {
      "provenance": []
    },
    "kernelspec": {
      "name": "python3",
      "display_name": "Python 3"
    },
    "language_info": {
      "name": "python"
    }
  },
  "cells": [
    {
      "cell_type": "markdown",
      "source": [
        "# Scraper de Osde ⚕\n",
        "\n",
        "Se le pide conocer la cantidad de prestadores de la especialidad de Cirugia General para el plan 310, que hay en cada una de las siguientes provincias del Interior (tomando en cuenta todas las localidades de cada Provincia):\n",
        "\n",
        "- Tierra del Fuego\n",
        "- Entre Rios\n",
        "- Cordoba\n",
        "- Mendoza\n",
        "- Neuquen\n",
        "- Tucuman\n",
        "- La Pampa\n",
        "\n",
        "La informacion que necesita la encontrar en la siguiente pagina: [`https://www.osde.com.ar/index.html#!cartilla.html`](https://www.osde.com.ar/index.html#!cartilla.html), recuerde interactuar con la pagina para encontras las apis que necesita.\n",
        "\n",
        "---\n",
        "\n",
        "Usted propone la siguiente estrategia para el armado del proceso **ETL**:\n",
        "\n",
        "### Investigacion:\n",
        "\n",
        "- Buscar posibles APIs ocultas en la pagina que den informacion.\n",
        "- Buscar si existe un parametro en la url que me permita simplemente cambiar un valor dentro de la url nada mas, y asi hacer un proceso iterativo para conseguir al informacion de todas las provincias. (Recuerda que si estas haciendo un proceso iterativo de este estilo puedes paralelizarlo).\n",
        "\n",
        "### Extraccion:\n",
        "\n",
        "- Llamar la API usando la libreria `requests`.\n",
        "- Implementar el paralelismo usando la libreria `multiprocessing`\n",
        "- Si no sabe como implementarlo siempre puede hacerlo con un for loop.\n",
        "\n",
        "### Transformacion\n",
        "- Armar un dicionario con la informacion pedida. De este estilo:\n",
        "    - ```python\n",
        "      resultados = {\n",
        "          \"provincias\": [\"Tierra del Fuego\", \"Entre Rios\", ... ],\n",
        "          \"cantidad_de_prestadores\": [23, 12, ... ],\n",
        "      }\n",
        "      ```\n",
        "    \n",
        "### Cargado (OPCIONAL):\n",
        "\n",
        "- Armar un Dataframe con la libreria `pandas`.\n",
        "- Exportar el Dataframe como un csv.\n",
        "\n",
        "---\n",
        "## NOTA IMPORTANTE SOBRE EL EJERCICIO:\n",
        "El ejercicio no solo es avanzado porque te presenta la posibilidad de implementar paralelismo, tambien presenta una dificultad porque la api a usar tiene una gran cantidad de parametros, en el proceso de scrapear mediante apis ocultas tambien debemos muchas veces limpiar las urls para que solo usen la informacion minima necesaria, muchas veces hay parametros que realmente no tienen influencia sobre la respuesta final del request y deben ser eliminados de la url por motivos de limpieza en el codigo y facilidad de desarrollo. En este caso los parametros a usar son solamente:\n",
        "- metodo\n",
        "- rubroId\n",
        "- provinciaId\n",
        "- provinciaTipo\n",
        "- localidadId\n",
        "- planId\n",
        "- especialidadId"
      ],
      "metadata": {
        "id": "QDC7V09WEf_G"
      }
    },
    {
      "cell_type": "code",
      "execution_count": null,
      "metadata": {
        "id": "kib4bbEX-pkB"
      },
      "outputs": [],
      "source": [
        "import requests\n",
        "import multiprocessing as mp\n",
        "import os\n",
        "import pandas as pd"
      ]
    },
    {
      "cell_type": "markdown",
      "source": [
        "### Extraccion"
      ],
      "metadata": {
        "id": "1dnmoqM4cX7g"
      }
    },
    {
      "cell_type": "code",
      "source": [
        "headers = {\n",
        "  'user-agent': 'Mozilla/5.0 (Windows NT 10.0; Win64; x64) AppleWebKit/537.36 (KHTML, like Gecko) Chrome/112.0.0.0 Safari/537.36',\n",
        "}"
      ],
      "metadata": {
        "id": "U7J9VJlJHMqg"
      },
      "execution_count": null,
      "outputs": []
    },
    {
      "cell_type": "code",
      "source": [
        "# Obtener id de los planes\n",
        "url_planes = 'https://www.osde.com.ar/Cartilla/PlanRemote.ashx?metodo=ObtenerPlanesParaCartillaMedicaConNoComercial'\n",
        "requests.get(url_planes, headers=headers).json()"
      ],
      "metadata": {
        "colab": {
          "base_uri": "https://localhost:8080/"
        },
        "id": "wxSf-Sd7Y4wz",
        "outputId": "f4a50506-36d9-422b-d176-d21aac760198"
      },
      "execution_count": null,
      "outputs": [
        {
          "output_type": "execute_result",
          "data": {
            "text/plain": [
              "[{'id': 21, 'nombre': '210'},\n",
              " {'id': 31, 'nombre': '310'},\n",
              " {'id': 41, 'nombre': '410'},\n",
              " {'id': 45, 'nombre': '450'},\n",
              " {'id': 51, 'nombre': '510'}]"
            ]
          },
          "metadata": {},
          "execution_count": 3
        }
      ]
    },
    {
      "cell_type": "code",
      "source": [
        "especialidad_objetivo = 411 # 'CIRUGÍA GENERAL'\n",
        "plan_objetivo = 31 # '310'\n",
        "provincias_objetivo = ['Tierra del Fuego', 'Entre Ríos', 'Córdoba', 'Mendoza', 'Neuquén', 'Tucumán', 'La Pampa']\n",
        "\n",
        "url_provincias = 'https://www.osde.com.ar/Cartilla/ProvinciaRemote.ashx?metodo=ObtenerParaCartillaMedica'\n",
        "response = requests.get(url_provincias, headers=headers)\n",
        "prov_data = []\n",
        "\n",
        "# Se itera por cada provincia y verifica que sea de interes\n",
        "for item in response.json():\n",
        "  if item['nombre'].strip() in provincias_objetivo:\n",
        "    # Agregamos la informacion de interes a la lista\n",
        "    prov_data.append(item['id'])\n",
        "  \n",
        "prov_data"
      ],
      "metadata": {
        "id": "lcpMUBrtewcg",
        "colab": {
          "base_uri": "https://localhost:8080/"
        },
        "outputId": "5c677ea5-9979-45bb-b738-1f4cb7daffcc"
      },
      "execution_count": null,
      "outputs": [
        {
          "output_type": "execute_result",
          "data": {
            "text/plain": [
              "[5, 7, 10, 12, 14, 22, 23]"
            ]
          },
          "metadata": {},
          "execution_count": 4
        }
      ]
    },
    {
      "cell_type": "code",
      "source": [
        "# Existe la posibilidad de ingresar los parametros GET con un diccionario\n",
        "# Obtener cantidad de prestadores por \n",
        "def get_prestadores(provincia):\n",
        "  short_url = 'https://www.osde.com.ar/Cartilla/consultaPorEspecialidadRemote.ashx'\n",
        "\n",
        "  parametros = {\n",
        "      'metodo': 'ObtenerParaCartillaMedica',\n",
        "      'rubroId': '2', # Rubro que incluye las especialidades de cirujia\n",
        "      'planId': plan_objetivo,\n",
        "      'provinciaId': provincia,\n",
        "      'provinciaTipo': 'INTERIOR',\n",
        "      'especialidadId': especialidad_objetivo\n",
        "  }\n",
        "\n",
        "  response = requests.get(short_url, headers=headers, params=parametros)\n",
        "  return response.json()['CantidadPrestadores']"
      ],
      "metadata": {
        "id": "Xi6XxQA2tUZT"
      },
      "execution_count": null,
      "outputs": []
    },
    {
      "cell_type": "markdown",
      "source": [
        "#### Opcion: for loop"
      ],
      "metadata": {
        "id": "ylgNUGsP0vhu"
      }
    },
    {
      "cell_type": "code",
      "source": [
        "prestadores = []\n",
        "for id_prov in prov_data:\n",
        "  cant_prestadores = get_prestadores(id_prov)\n",
        "  prestadores.append(cant_prestadores)\n",
        "\n",
        "prestadores"
      ],
      "metadata": {
        "colab": {
          "base_uri": "https://localhost:8080/"
        },
        "id": "q3i0hWVDh6Ci",
        "outputId": "372add5d-01bc-4b09-9916-1b2a5e93822e"
      },
      "execution_count": null,
      "outputs": [
        {
          "output_type": "execute_result",
          "data": {
            "text/plain": [
              "[208, 174, 39, 51, 76, 13, 92]"
            ]
          },
          "metadata": {},
          "execution_count": 6
        }
      ]
    },
    {
      "cell_type": "markdown",
      "source": [
        "#### Opcion: Multiprocessing"
      ],
      "metadata": {
        "id": "-rqpWpaC0yTB"
      }
    },
    {
      "cell_type": "code",
      "source": [
        "cpus = mp.cpu_count()\n",
        "\n",
        "with mp.Pool(cpus) as pool:\n",
        "  prestadores = pool.map(get_prestadores, prov_data)"
      ],
      "metadata": {
        "id": "1t4-H5b6as7d"
      },
      "execution_count": null,
      "outputs": []
    },
    {
      "cell_type": "markdown",
      "source": [
        "Mediciones de rendimientos dependiendo la cantidad de procesos asignados, seguir en relacion a la cantidad de los cpus disponibles."
      ],
      "metadata": {
        "id": "evNGjXKVbQSp"
      }
    },
    {
      "cell_type": "code",
      "source": [
        "%%time\n",
        "with mp.Pool(cpus) as pool:\n",
        "  pool.map(get_prestadores, prov_data)"
      ],
      "metadata": {
        "colab": {
          "base_uri": "https://localhost:8080/"
        },
        "id": "Fuk2lLlqacCG",
        "outputId": "47f9a2de-86f1-4336-d326-b7fd51041ad4"
      },
      "execution_count": null,
      "outputs": [
        {
          "output_type": "stream",
          "name": "stdout",
          "text": [
            "CPU times: user 28.6 ms, sys: 26.9 ms, total: 55.5 ms\n",
            "Wall time: 1.82 s\n"
          ]
        }
      ]
    },
    {
      "cell_type": "code",
      "source": [
        "%%time\n",
        "with mp.Pool(cpus * 3) as pool:\n",
        "  pool.map(get_prestadores, prov_data)"
      ],
      "metadata": {
        "colab": {
          "base_uri": "https://localhost:8080/"
        },
        "id": "GOQ1CSt1xY_g",
        "outputId": "12a2c74d-de80-4e24-d8fd-2f7118dfe0bc"
      },
      "execution_count": null,
      "outputs": [
        {
          "output_type": "stream",
          "name": "stdout",
          "text": [
            "CPU times: user 30.1 ms, sys: 59.6 ms, total: 89.7 ms\n",
            "Wall time: 1.14 s\n"
          ]
        }
      ]
    },
    {
      "cell_type": "code",
      "source": [
        "%%time\n",
        "with mp.Pool(cpus * 4) as pool:\n",
        "  pool.map(get_prestadores, prov_data)"
      ],
      "metadata": {
        "colab": {
          "base_uri": "https://localhost:8080/"
        },
        "id": "cfMoV5Sca1Qe",
        "outputId": "872b8875-7c7c-4b5b-b56f-8987edd01a7c"
      },
      "execution_count": null,
      "outputs": [
        {
          "output_type": "stream",
          "name": "stdout",
          "text": [
            "CPU times: user 31.4 ms, sys: 72.9 ms, total: 104 ms\n",
            "Wall time: 991 ms\n"
          ]
        }
      ]
    },
    {
      "cell_type": "code",
      "source": [
        "%%time\n",
        "with mp.Pool(cpus * 5) as pool:\n",
        "  pool.map(get_prestadores, prov_data)"
      ],
      "metadata": {
        "colab": {
          "base_uri": "https://localhost:8080/"
        },
        "id": "a4MYjt7Exbcx",
        "outputId": "99f2ff55-8b4e-4850-bf19-a43bad15c460"
      },
      "execution_count": null,
      "outputs": [
        {
          "output_type": "stream",
          "name": "stdout",
          "text": [
            "CPU times: user 33.5 ms, sys: 80.3 ms, total: 114 ms\n",
            "Wall time: 1.14 s\n"
          ]
        }
      ]
    },
    {
      "cell_type": "markdown",
      "source": [
        "### Transformacion"
      ],
      "metadata": {
        "id": "KHfRRfqdhbm6"
      }
    },
    {
      "cell_type": "code",
      "source": [
        "resultados = {\n",
        "    'provincias': provincias_objetivo,\n",
        "    'cantidad_de_prestadores': prestadores\n",
        "}\n",
        "df = pd.DataFrame.from_dict(resultados)"
      ],
      "metadata": {
        "id": "LPL-fFfodS4o"
      },
      "execution_count": null,
      "outputs": []
    },
    {
      "cell_type": "markdown",
      "source": [
        "### Carga"
      ],
      "metadata": {
        "id": "LS1-lP1WcZMr"
      }
    },
    {
      "cell_type": "code",
      "source": [
        "df.to_csv('prestadores.csv', index=False)\n",
        "df"
      ],
      "metadata": {
        "colab": {
          "base_uri": "https://localhost:8080/",
          "height": 269
        },
        "id": "ZFVwolMknNn0",
        "outputId": "8e6415eb-635b-42d7-acff-9aeec32d3869"
      },
      "execution_count": null,
      "outputs": [
        {
          "output_type": "execute_result",
          "data": {
            "text/plain": [
              "         provincias  cantidad_de_prestadores\n",
              "0  Tierra del Fuego                      208\n",
              "1        Entre Ríos                      174\n",
              "2           Córdoba                       39\n",
              "3           Mendoza                       51\n",
              "4           Neuquén                       76\n",
              "5           Tucumán                       13\n",
              "6          La Pampa                       92"
            ],
            "text/html": [
              "\n",
              "  <div id=\"df-aa647a76-1f86-4ff8-bddf-490853f2c37f\">\n",
              "    <div class=\"colab-df-container\">\n",
              "      <div>\n",
              "<style scoped>\n",
              "    .dataframe tbody tr th:only-of-type {\n",
              "        vertical-align: middle;\n",
              "    }\n",
              "\n",
              "    .dataframe tbody tr th {\n",
              "        vertical-align: top;\n",
              "    }\n",
              "\n",
              "    .dataframe thead th {\n",
              "        text-align: right;\n",
              "    }\n",
              "</style>\n",
              "<table border=\"1\" class=\"dataframe\">\n",
              "  <thead>\n",
              "    <tr style=\"text-align: right;\">\n",
              "      <th></th>\n",
              "      <th>provincias</th>\n",
              "      <th>cantidad_de_prestadores</th>\n",
              "    </tr>\n",
              "  </thead>\n",
              "  <tbody>\n",
              "    <tr>\n",
              "      <th>0</th>\n",
              "      <td>Tierra del Fuego</td>\n",
              "      <td>208</td>\n",
              "    </tr>\n",
              "    <tr>\n",
              "      <th>1</th>\n",
              "      <td>Entre Ríos</td>\n",
              "      <td>174</td>\n",
              "    </tr>\n",
              "    <tr>\n",
              "      <th>2</th>\n",
              "      <td>Córdoba</td>\n",
              "      <td>39</td>\n",
              "    </tr>\n",
              "    <tr>\n",
              "      <th>3</th>\n",
              "      <td>Mendoza</td>\n",
              "      <td>51</td>\n",
              "    </tr>\n",
              "    <tr>\n",
              "      <th>4</th>\n",
              "      <td>Neuquén</td>\n",
              "      <td>76</td>\n",
              "    </tr>\n",
              "    <tr>\n",
              "      <th>5</th>\n",
              "      <td>Tucumán</td>\n",
              "      <td>13</td>\n",
              "    </tr>\n",
              "    <tr>\n",
              "      <th>6</th>\n",
              "      <td>La Pampa</td>\n",
              "      <td>92</td>\n",
              "    </tr>\n",
              "  </tbody>\n",
              "</table>\n",
              "</div>\n",
              "      <button class=\"colab-df-convert\" onclick=\"convertToInteractive('df-aa647a76-1f86-4ff8-bddf-490853f2c37f')\"\n",
              "              title=\"Convert this dataframe to an interactive table.\"\n",
              "              style=\"display:none;\">\n",
              "        \n",
              "  <svg xmlns=\"http://www.w3.org/2000/svg\" height=\"24px\"viewBox=\"0 0 24 24\"\n",
              "       width=\"24px\">\n",
              "    <path d=\"M0 0h24v24H0V0z\" fill=\"none\"/>\n",
              "    <path d=\"M18.56 5.44l.94 2.06.94-2.06 2.06-.94-2.06-.94-.94-2.06-.94 2.06-2.06.94zm-11 1L8.5 8.5l.94-2.06 2.06-.94-2.06-.94L8.5 2.5l-.94 2.06-2.06.94zm10 10l.94 2.06.94-2.06 2.06-.94-2.06-.94-.94-2.06-.94 2.06-2.06.94z\"/><path d=\"M17.41 7.96l-1.37-1.37c-.4-.4-.92-.59-1.43-.59-.52 0-1.04.2-1.43.59L10.3 9.45l-7.72 7.72c-.78.78-.78 2.05 0 2.83L4 21.41c.39.39.9.59 1.41.59.51 0 1.02-.2 1.41-.59l7.78-7.78 2.81-2.81c.8-.78.8-2.07 0-2.86zM5.41 20L4 18.59l7.72-7.72 1.47 1.35L5.41 20z\"/>\n",
              "  </svg>\n",
              "      </button>\n",
              "      \n",
              "  <style>\n",
              "    .colab-df-container {\n",
              "      display:flex;\n",
              "      flex-wrap:wrap;\n",
              "      gap: 12px;\n",
              "    }\n",
              "\n",
              "    .colab-df-convert {\n",
              "      background-color: #E8F0FE;\n",
              "      border: none;\n",
              "      border-radius: 50%;\n",
              "      cursor: pointer;\n",
              "      display: none;\n",
              "      fill: #1967D2;\n",
              "      height: 32px;\n",
              "      padding: 0 0 0 0;\n",
              "      width: 32px;\n",
              "    }\n",
              "\n",
              "    .colab-df-convert:hover {\n",
              "      background-color: #E2EBFA;\n",
              "      box-shadow: 0px 1px 2px rgba(60, 64, 67, 0.3), 0px 1px 3px 1px rgba(60, 64, 67, 0.15);\n",
              "      fill: #174EA6;\n",
              "    }\n",
              "\n",
              "    [theme=dark] .colab-df-convert {\n",
              "      background-color: #3B4455;\n",
              "      fill: #D2E3FC;\n",
              "    }\n",
              "\n",
              "    [theme=dark] .colab-df-convert:hover {\n",
              "      background-color: #434B5C;\n",
              "      box-shadow: 0px 1px 3px 1px rgba(0, 0, 0, 0.15);\n",
              "      filter: drop-shadow(0px 1px 2px rgba(0, 0, 0, 0.3));\n",
              "      fill: #FFFFFF;\n",
              "    }\n",
              "  </style>\n",
              "\n",
              "      <script>\n",
              "        const buttonEl =\n",
              "          document.querySelector('#df-aa647a76-1f86-4ff8-bddf-490853f2c37f button.colab-df-convert');\n",
              "        buttonEl.style.display =\n",
              "          google.colab.kernel.accessAllowed ? 'block' : 'none';\n",
              "\n",
              "        async function convertToInteractive(key) {\n",
              "          const element = document.querySelector('#df-aa647a76-1f86-4ff8-bddf-490853f2c37f');\n",
              "          const dataTable =\n",
              "            await google.colab.kernel.invokeFunction('convertToInteractive',\n",
              "                                                     [key], {});\n",
              "          if (!dataTable) return;\n",
              "\n",
              "          const docLinkHtml = 'Like what you see? Visit the ' +\n",
              "            '<a target=\"_blank\" href=https://colab.research.google.com/notebooks/data_table.ipynb>data table notebook</a>'\n",
              "            + ' to learn more about interactive tables.';\n",
              "          element.innerHTML = '';\n",
              "          dataTable['output_type'] = 'display_data';\n",
              "          await google.colab.output.renderOutput(dataTable, element);\n",
              "          const docLink = document.createElement('div');\n",
              "          docLink.innerHTML = docLinkHtml;\n",
              "          element.appendChild(docLink);\n",
              "        }\n",
              "      </script>\n",
              "    </div>\n",
              "  </div>\n",
              "  "
            ]
          },
          "metadata": {},
          "execution_count": 9
        }
      ]
    }
  ]
}
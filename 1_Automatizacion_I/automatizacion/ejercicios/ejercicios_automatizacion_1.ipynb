{
  "cells": [
    {
      "cell_type": "markdown",
      "metadata": {
        "id": "5TksMTLqYmHp"
      },
      "source": [
        "<div align=\"center\"><a href=\"https://colab.research.google.com/github/institutohumai/cursos-python/blob/master/Automatizacion/ejercicios/ejercicios_automatizacion_1.ipynb\"> <img src='https://colab.research.google.com/assets/colab-badge.svg'/> </a> <br> Recordá abrir en una nueva pestaña </div>"
      ]
    },
    {
      "cell_type": "code",
      "execution_count": null,
      "metadata": {
        "id": "I6hj6v2WxoeF"
      },
      "outputs": [],
      "source": [
        "import requests\n",
        "import re\n",
        "import os"
      ]
    },
    {
      "cell_type": "code",
      "execution_count": null,
      "metadata": {
        "id": "j44rwTTfwtGn"
      },
      "outputs": [],
      "source": [
        "# Nos traemos un pequeño dataset (con info falsa) tomado de este excelente video: https://youtu.be/K8L6KVGG-7o\n",
        "# Hacemos un request (spoiler alert: vamos a ver más de esto la próxima clase 😉)\n",
        "r = requests.get('https://raw.githubusercontent.com/CoreyMSchafer/code_snippets/master/Python-Regular-Expressions/data.txt')\n",
        "texto = r.text\n",
        "print(texto)"
      ]
    },
    {
      "cell_type": "markdown",
      "metadata": {
        "id": "W94gxnS7IyR5"
      },
      "source": [
        "## Ejercicios\n",
        "\n",
        "1. Crear una carpeta *datos*.\n",
        "2. Dentro de esta nueva carpeta, crear diferentes carpetas para nombres, telefono , emails, y código de estado extraidos del texto.\n",
        "3. Seleccionar solo los numeros de telefono que empiecen con 2 o con 3. \n",
        "4. Guardar en formato txt un archivo en cada carpeta con la data correspondiente <br>\n",
        "(**TIP: Agreguen saltos de linea \"\\n\" luego de cada entrada**).\n",
        "\n"
      ]
    },
    {
      "cell_type": "markdown",
      "metadata": {
        "id": "SqVWGHW917n1"
      },
      "source": [
        "## BONUS 🥇\n",
        "\n",
        "Escribir una expresion regular con la que se obtengan todas las URLs"
      ]
    },
    {
      "cell_type": "code",
      "execution_count": null,
      "metadata": {
        "id": "B5x9UDGWv1pg"
      },
      "outputs": [],
      "source": [
        "urls = '''\n",
        "https://www.google.com\n",
        "http://data.buenosaires.gob.ar\n",
        "https://youtube.com\n",
        "https://www.nasa.gov\n",
        "https://humai.com.ar\n",
        "https://www.7puentes.com\n",
        "'''\n"
      ]
    },
    {
      "cell_type": "code",
      "execution_count": null,
      "metadata": {
        "id": "3YlcfoYE0XgX"
      },
      "outputs": [],
      "source": []
    }
  ],
  "metadata": {
    "colab": {
      "provenance": []
    },
    "kernelspec": {
      "display_name": "Python 3",
      "name": "python3"
    },
    "language_info": {
      "name": "python"
    }
  },
  "nbformat": 4,
  "nbformat_minor": 0
}
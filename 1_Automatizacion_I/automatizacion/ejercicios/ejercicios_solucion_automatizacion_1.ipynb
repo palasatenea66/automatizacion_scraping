{
  "cells": [
    {
      "cell_type": "code",
      "execution_count": null,
      "metadata": {
        "id": "I6hj6v2WxoeF"
      },
      "outputs": [],
      "source": [
        "import requests\n",
        "import re\n",
        "import os"
      ]
    },
    {
      "cell_type": "markdown",
      "source": [
        "## Obtener texto"
      ],
      "metadata": {
        "id": "4iCYyrf5SJbN"
      }
    },
    {
      "cell_type": "code",
      "execution_count": null,
      "metadata": {
        "id": "j44rwTTfwtGn"
      },
      "outputs": [],
      "source": [
        "# Nos traemos un pequeño dataset (con info falsa) tomado de este excelente video: https://youtu.be/K8L6KVGG-7o\n",
        "# Hacemos un request (spoiler alert: vamos a ver más de esto la próxima clase 😉)\n",
        "r = requests.get('https://raw.githubusercontent.com/CoreyMSchafer/code_snippets/master/Python-Regular-Expressions/data.txt')\n",
        "texto = r.text"
      ]
    },
    {
      "cell_type": "code",
      "source": [
        "print(texto)"
      ],
      "metadata": {
        "id": "s_YdN3q0SIK8"
      },
      "execution_count": null,
      "outputs": []
    },
    {
      "cell_type": "markdown",
      "metadata": {
        "id": "W94gxnS7IyR5"
      },
      "source": [
        "## Ejercicios\n",
        "\n",
        "1. Crear una carpeta *datos*.\n",
        "2. Dentro de esta nueva carpeta, crear diferentes carpetas para nombres, telefono , emails, y código de estado extraidos del texto.\n",
        "3. Seleccionar solo los numeros de telefono que empiecen con 2 o con 3. \n",
        "4. Guardar en formato txt un archivo en cada carpeta con la data correspondiente <br>\n",
        "(**TIP: Agreguen saltos de linea \"\\n\" luego de cada entrada**).\n",
        "\n"
      ]
    },
    {
      "cell_type": "code",
      "source": [
        "datos_path = '/content/datos'\n",
        "if not os.path.exists(datos_path):\n",
        "  os.mkdir(datos_path)\n",
        "  os.chdir(datos_path)"
      ],
      "metadata": {
        "id": "fBm45sqkmpAi"
      },
      "execution_count": null,
      "outputs": []
    },
    {
      "cell_type": "code",
      "source": [
        "os.getcwd()"
      ],
      "metadata": {
        "colab": {
          "base_uri": "https://localhost:8080/",
          "height": 35
        },
        "id": "efYoCWGLTY02",
        "outputId": "711dbe74-b2e1-4ade-cce6-c01cfb68ac73"
      },
      "execution_count": null,
      "outputs": [
        {
          "output_type": "execute_result",
          "data": {
            "text/plain": [
              "'/content/datos'"
            ],
            "application/vnd.google.colaboratory.intrinsic+json": {
              "type": "string"
            }
          },
          "metadata": {},
          "execution_count": 10
        }
      ]
    },
    {
      "cell_type": "code",
      "source": [
        "def guardar_datos(name, data):\n",
        "  \"\"\"\n",
        "  Esta funcion genera una carpeta con el nombre `name`\n",
        "  genera un archivo de texto guardando el contenido de `data\n",
        "  \"\"\"\n",
        "  absolute_path = os.path.join(datos_path, name)\n",
        "\n",
        "  # En caso de no querer utilizar os.path.exists()\n",
        "  try:\n",
        "    os.mkdir(absolute_path)\n",
        "  except FileExistsError:\n",
        "    pass\n",
        "\n",
        "  os.chdir(absolute_path)\n",
        "\n",
        "  with open(f'{name}.txt', 'w') as archivo:\n",
        "    for line in data:\n",
        "      archivo.write(line + '\\n')\n",
        "  \n",
        "  os.chdir(datos_path)\n"
      ],
      "metadata": {
        "id": "wG6SF-Gzmy9W"
      },
      "execution_count": null,
      "outputs": []
    },
    {
      "cell_type": "code",
      "source": [
        "# Nombres\n",
        "# Se debe agregar el caracter '-', ya que existe el nombre 'Jennifer Martin-White'\n",
        "nombres = re.findall('^[A-Za-z]{3,} [A-Za-z\\-]{3,}$',texto, re.MULTILINE)\n",
        "\n",
        "print(len(nombres))\n",
        "print(nombres)\n",
        "\n",
        "guardar_datos('nombres', nombres)"
      ],
      "metadata": {
        "colab": {
          "base_uri": "https://localhost:8080/"
        },
        "id": "MZGsfDwUYNP4",
        "outputId": "35f6532a-51c3-442f-ef3c-7ce2fc7a0372"
      },
      "execution_count": null,
      "outputs": [
        {
          "output_type": "stream",
          "name": "stdout",
          "text": [
            "100\n",
            "['Dave Martin', 'Charles Harris', 'Eric Williams', 'Corey Jefferson', 'Jennifer Martin-White', 'Erick Davis', 'Neil Patterson', 'Laura Jefferson', 'Maria Johnson', 'Michael Arnold', 'Michael Smith', 'Erik Stuart', 'Laura Martin', 'Barbara Martin', 'Linda Jackson', 'Eric Miller', 'Dave Arnold', 'Jennifer Jacobs', 'Neil Wilson', 'Kurt Jackson', 'Mary Jacobs', 'Michael White', 'Jennifer Jenkins', 'Sam Wright', 'John Davis', 'Eric Davis', 'Laura Jackson', 'John Williams', 'Michael Martin', 'Maggie Brown', 'Erik Wilson', 'Elizabeth Arnold', 'Jane Martin', 'Travis Johnson', 'Laura Jefferson', 'Tom Williams', 'Jennifer Taylor', 'Erick Wright', 'Steve Doe', 'Kurt Davis', 'Corey Harris', 'Nicole Taylor', 'Elizabeth Davis', 'Maggie Jenkins', 'Linda Davis', 'Dave Moore', 'Linda Jenkins', 'Eric White', 'Laura Robinson', 'Charles Patterson', 'Joe Jackson', 'Michael Johnson', 'Corey Miller', 'James Moore', 'Jennifer Stuart', 'Charles Martin', 'Eric Wilks', 'Elizabeth Arnold', 'John Miller', 'Corey Jackson', 'Sam Thomas', 'Patricia Thomas', 'Jennifer Davis', 'Patricia Brown', 'Barbara Williams', 'James Taylor', 'Eric Harris', 'Travis Anderson', 'Sam Robinson', 'Steve Robinson', 'Mary Wilson', 'Sam Wilson', 'Charles Jones', 'Laura Brown', 'Tom Harris', 'Patricia Taylor', 'Barbara Williams', 'Maggie Johnson', 'Kurt Miller', 'Neil Stuart', 'Linda Patterson', 'Charles Davis', 'Jennifer Jefferson', 'Erick Taylor', 'Robert Wilks', 'Travis Jackson', 'Travis Jackson', 'Laura Wilks', 'Neil Arnold', 'Linda Johnson', 'Jennifer Wilson', 'Nicole White', 'Maria Arnold', 'Jennifer Davis', 'Mary Patterson', 'Jane Stuart', 'Robert Davis', 'James Taylor', 'Eric Stuart', 'Charles Miller']\n"
          ]
        }
      ]
    },
    {
      "cell_type": "code",
      "source": [
        "tel = re.findall('\\d{3}-\\d{3}-\\d{4}', texto)\n",
        "print(len(tel))\n",
        "print(tel)\n",
        "\n",
        "sub_telefonos = []\n",
        "\n",
        "for item in tel:\n",
        "  if item.startswith('2') or item.startswith('3'):\n",
        "    sub_telefonos.append(item)\n",
        "\n",
        "guardar_datos('telefonos con 2 y 3', sub_telefonos)"
      ],
      "metadata": {
        "colab": {
          "base_uri": "https://localhost:8080/"
        },
        "id": "WjM9aWQokSjC",
        "outputId": "1d1a396f-4a4f-49af-9d9f-e12a553ffe25"
      },
      "execution_count": null,
      "outputs": [
        {
          "output_type": "stream",
          "name": "stdout",
          "text": [
            "100\n",
            "['615-555-7164', '800-555-5669', '560-555-5153', '900-555-9340', '714-555-7405', '800-555-6771', '783-555-4799', '516-555-4615', '127-555-1867', '608-555-4938', '568-555-6051', '292-555-1875', '900-555-3205', '614-555-1166', '530-555-2676', '470-555-2750', '800-555-6089', '880-555-8319', '777-555-8378', '998-555-7385', '800-555-7100', '903-555-8277', '196-555-5674', '900-555-5118', '905-555-1630', '203-555-3475', '884-555-8444', '904-555-8559', '889-555-7393', '195-555-2405', '321-555-9053', '133-555-1711', '900-555-5428', '760-555-7147', '391-555-6621', '932-555-7724', '609-555-7908', '800-555-8810', '149-555-7657', '130-555-9709', '143-555-9295', '903-555-9878', '574-555-3194', '496-555-7533', '210-555-3757', '900-555-9598', '866-555-9844', '669-555-7159', '152-555-7417', '893-555-9832', '217-555-7123', '786-555-6544', '780-555-2574', '926-555-8735', '895-555-3539', '874-555-3949', '800-555-2420', '936-555-6340', '372-555-9809', '890-555-5618', '670-555-3005', '509-555-5997', '721-555-5632', '900-555-3567', '147-555-6830', '582-555-3426', '400-555-1706', '525-555-1793', '317-555-6700', '974-555-8301', '800-555-3216', '746-555-4094', '922-555-1773', '711-555-4427', '355-555-1872', '852-555-6521', '691-555-5773', '332-555-5441', '900-555-7755', '379-555-3685', '127-555-9682', '789-555-7032', '783-555-5135', '315-555-6507', '481-555-5835', '365-555-8287', '911-555-7535', '681-555-2460', '274-555-9800', '800-555-1372', '300-555-7821', '133-555-3889', '705-555-6863', '215-555-9449', '988-555-6112', '623-555-3006', '192-555-4977', '178-555-4899', '952-555-3089', '900-555-6426']\n"
          ]
        }
      ]
    },
    {
      "cell_type": "code",
      "source": [
        "emails = re.findall('^\\w{4,}@\\w{3,}.com', texto, re.MULTILINE)\n",
        "print(len(emails))\n",
        "print(emails)\n",
        "\n",
        "guardar_datos('emails', emails)"
      ],
      "metadata": {
        "colab": {
          "base_uri": "https://localhost:8080/"
        },
        "id": "mZrYJL3rlOsD",
        "outputId": "477908f7-ea51-4727-f4a4-a57164414b43"
      },
      "execution_count": null,
      "outputs": [
        {
          "output_type": "stream",
          "name": "stdout",
          "text": [
            "100\n",
            "['davemartin@bogusemail.com', 'charlesharris@bogusemail.com', 'laurawilliams@bogusemail.com', 'coreyjefferson@bogusemail.com', 'jenniferwhite@bogusemail.com', 'tomdavis@bogusemail.com', 'neilpatterson@bogusemail.com', 'laurajefferson@bogusemail.com', 'mariajohnson@bogusemail.com', 'michaelarnold@bogusemail.com', 'michaelsmith@bogusemail.com', 'robertstuart@bogusemail.com', 'lauramartin@bogusemail.com', 'barbaramartin@bogusemail.com', 'lindajackson@bogusemail.com', 'stevemiller@bogusemail.com', 'davearnold@bogusemail.com', 'jenniferjacobs@bogusemail.com', 'neilwilson@bogusemail.com', 'kurtjackson@bogusemail.com', 'maryjacobs@bogusemail.com', 'michaelwhite@bogusemail.com', 'jenniferjenkins@bogusemail.com', 'samwright@bogusemail.com', 'johndavis@bogusemail.com', 'neildavis@bogusemail.com', 'laurajackson@bogusemail.com', 'johnwilliams@bogusemail.com', 'michaelmartin@bogusemail.com', 'maggiebrown@bogusemail.com', 'kurtwilson@bogusemail.com', 'elizabetharnold@bogusemail.com', 'janemartin@bogusemail.com', 'travisjohnson@bogusemail.com', 'laurajefferson@bogusemail.com', 'tomwilliams@bogusemail.com', 'jennifertaylor@bogusemail.com', 'jenniferwright@bogusemail.com', 'stevedoe@bogusemail.com', 'kurtdavis@bogusemail.com', 'coreyharris@bogusemail.com', 'nicoletaylor@bogusemail.com', 'elizabethdavis@bogusemail.com', 'maggiejenkins@bogusemail.com', 'lindadavis@bogusemail.com', 'davemoore@bogusemail.com', 'lindajenkins@bogusemail.com', 'samwhite@bogusemail.com', 'laurarobinson@bogusemail.com', 'charlespatterson@bogusemail.com', 'joejackson@bogusemail.com', 'michaeljohnson@bogusemail.com', 'coreymiller@bogusemail.com', 'jamesmoore@bogusemail.com', 'jenniferstuart@bogusemail.com', 'charlesmartin@bogusemail.com', 'joewilks@bogusemail.com', 'elizabetharnold@bogusemail.com', 'johnmiller@bogusemail.com', 'coreyjackson@bogusemail.com', 'samthomas@bogusemail.com', 'patriciathomas@bogusemail.com', 'jenniferdavis@bogusemail.com', 'patriciabrown@bogusemail.com', 'barbarawilliams@bogusemail.com', 'jamestaylor@bogusemail.com', 'barbaraharris@bogusemail.com', 'travisanderson@bogusemail.com', 'samrobinson@bogusemail.com', 'steverobinson@bogusemail.com', 'marywilson@bogusemail.com', 'samwilson@bogusemail.com', 'charlesjones@bogusemail.com', 'laurabrown@bogusemail.com', 'tomharris@bogusemail.com', 'patriciataylor@bogusemail.com', 'barbarawilliams@bogusemail.com', 'maggiejohnson@bogusemail.com', 'kurtmiller@bogusemail.com', 'neilstuart@bogusemail.com', 'lindapatterson@bogusemail.com', 'charlesdavis@bogusemail.com', 'jenniferjefferson@bogusemail.com', 'coreytaylor@bogusemail.com', 'robertwilks@bogusemail.com', 'travisjackson@bogusemail.com', 'travisjackson@bogusemail.com', 'laurawilks@bogusemail.com', 'neilarnold@bogusemail.com', 'lindajohnson@bogusemail.com', 'jenniferwilson@bogusemail.com', 'nicolewhite@bogusemail.com', 'mariaarnold@bogusemail.com', 'jenniferdavis@bogusemail.com', 'marypatterson@bogusemail.com', 'janestuart@bogusemail.com', 'robertdavis@bogusemail.com', 'jamestaylor@bogusemail.com', 'johnstuart@bogusemail.com', 'charlesmiller@bogusemail.com']\n"
          ]
        }
      ]
    },
    {
      "cell_type": "code",
      "source": [
        "codigos = re.findall('[A-Z]{2} \\d{5}', texto)\n",
        "print(len(codigos))\n",
        "print(codigos)\n",
        "\n",
        "guardar_datos('codigos', codigos)"
      ],
      "metadata": {
        "colab": {
          "base_uri": "https://localhost:8080/"
        },
        "id": "QT7ynUuLlyD9",
        "outputId": "3bbac885-e28c-45be-ad21-fcd8f56920a4"
      },
      "execution_count": null,
      "outputs": [
        {
          "output_type": "stream",
          "name": "stdout",
          "text": [
            "100\n",
            "['RI 55924', 'VA 34075', 'AK 86847', 'NE 10671', 'CT 74983', 'TN 32425', 'IL 61914', 'LA 29947', 'ME 43597', 'OR 90938', 'VA 99000', 'NY 87282', 'WY 28362', 'UT 92474', 'TX 61967', 'MT 56526', 'KY 97152', 'IA 82767', 'IL 72160', 'NH 97183', 'IA 58176', 'TX 89212', 'SC 96962', 'ND 77737', 'GA 34615', 'OR 30826', 'MS 29348', 'KY 94854', 'NV 21888', 'MD 59348', 'FL 74122', 'NV 99431', 'ID 16576', 'SD 25668', 'ME 29540', 'FL 60758', 'OH 78172', 'NC 79714', 'MS 87195', 'ND 85386', 'TX 57112', 'LA 64102', 'SD 17880', 'PA 46692', 'AR 78455', 'OK 29087', 'NE 11899', 'TN 43281', 'NC 78036', 'AK 62260', 'KS 66724', 'AZ 18586', 'IA 16272', 'KY 89569', 'GA 54999', 'PA 89260', 'OH 61275', 'NH 88289', 'NM 75205', 'UT 36433', 'MS 25473', 'CT 30958', 'MT 62155', 'WV 57680', 'NV 55462', 'MA 51312', 'NV 72025', 'WA 78862', 'MD 13147', 'NM 92369', 'UT 29551', 'KS 23225', 'HI 81427', 'MO 96421', 'AR 96698', 'FL 98412', 'GA 26245', 'DE 56449', 'AL 97503', 'RI 49113', 'KY 47472', 'MN 11845', 'WA 74526', 'IL 26941', 'IL 47182', 'PA 22772', 'HI 73725', 'SC 47466', 'PA 73860', 'IN 82473', 'DC 58720', 'IL 57764', 'PA 31836', 'MT 31169', 'CT 81541', 'RI 15445', 'IN 22215', 'NV 39308', 'AZ 16547', 'MA 24886']\n"
          ]
        }
      ]
    },
    {
      "cell_type": "markdown",
      "metadata": {
        "id": "SqVWGHW917n1"
      },
      "source": [
        "## BONUS 🥇\n",
        "\n",
        "Escribir una expresion regular con la que se obtengan todas las URLs"
      ]
    },
    {
      "cell_type": "code",
      "execution_count": null,
      "metadata": {
        "id": "B5x9UDGWv1pg"
      },
      "outputs": [],
      "source": [
        "urls = '''\n",
        "https://www.google.com\n",
        "http://data.buenosaires.gob.ar\n",
        "https://youtube.com\n",
        "https://www.nasa.gov\n",
        "https://humai.com.ar\n",
        "https://www.7puentes.com\n",
        "'''\n"
      ]
    },
    {
      "cell_type": "code",
      "execution_count": null,
      "metadata": {
        "id": "3YlcfoYE0XgX",
        "colab": {
          "base_uri": "https://localhost:8080/"
        },
        "outputId": "42134ea0-ae03-4615-8565-67d2a64daad7"
      },
      "outputs": [
        {
          "output_type": "stream",
          "name": "stdout",
          "text": [
            "['https://www.google.com', 'http://data.buenosaires.gob.ar', 'https://youtube.com', 'https://www.nasa.gov', 'https://humai.com.ar', 'https://www.7puentes.com']\n"
          ]
        }
      ],
      "source": [
        "re_urls = re.findall('http(?:s|)://(?:\\w+\\.|)\\w+\\.\\w{2,3}(?:\\.\\w{2,3}|)', urls)\n",
        "print(re_urls)"
      ]
    }
  ],
  "metadata": {
    "colab": {
      "provenance": []
    },
    "kernelspec": {
      "display_name": "Python 3",
      "name": "python3"
    },
    "language_info": {
      "name": "python"
    }
  },
  "nbformat": 4,
  "nbformat_minor": 0
}
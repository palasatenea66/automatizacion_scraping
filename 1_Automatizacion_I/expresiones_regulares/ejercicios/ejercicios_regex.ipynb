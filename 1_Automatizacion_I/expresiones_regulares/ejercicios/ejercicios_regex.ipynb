{
  "nbformat": 4,
  "nbformat_minor": 0,
  "metadata": {
    "colab": {
      "provenance": []
    },
    "kernelspec": {
      "name": "python3",
      "display_name": "Python 3"
    },
    "language_info": {
      "name": "python"
    }
  },
  "cells": [
    {
      "cell_type": "markdown",
      "source": [
        "# Ejercitacion extra para la clase del curso de Automatizacion y web scraping\n",
        "Fecha: 18/04/2023"
      ],
      "metadata": {
        "id": "jznJuychWuEU"
      }
    },
    {
      "cell_type": "code",
      "execution_count": null,
      "metadata": {
        "id": "kiKcWwmvWhJc"
      },
      "outputs": [],
      "source": [
        "import re\n",
        "import os"
      ]
    },
    {
      "cell_type": "markdown",
      "source": [
        "## Regex"
      ],
      "metadata": {
        "id": "0-Ta9Zla1xIi"
      }
    },
    {
      "cell_type": "markdown",
      "source": [
        "### Ejercicio 1.a\n",
        "\n",
        "Dado el siguiente texto, extraé todos los números de teléfono que tengan un código de área (2 dígitos) seguidos por el número de teléfono (8 dígitos):"
      ],
      "metadata": {
        "id": "8hhSyeXpuYsN"
      }
    },
    {
      "cell_type": "code",
      "source": [
        "texto = \"Mis números de teléfono son 1112345678, 2298765432 y 3412345678\"\n"
      ],
      "metadata": {
        "id": "3U_2NnXvusVO"
      },
      "execution_count": null,
      "outputs": []
    },
    {
      "cell_type": "markdown",
      "source": [
        "### Ejercicio 1.b\n",
        "Definir una regex para capturar estos 3 formatos de numeros de argentina:\n",
        "\n",
        "\\#\\# = codigo de area de 2 o 3 digitos\n",
        "- +54 ## \\*\\*\\*\\*-\\*\\*\\*\\*\n",
        "- +54 ## \\*\\*\\*\\*\\*\\*\\*\\*\n",
        "- ##\\*\\*\\*\\*-\\*\\*\\*\\*\n"
      ],
      "metadata": {
        "id": "rHJZNl2MZVNY"
      }
    },
    {
      "cell_type": "code",
      "source": [
        "texto = \"\"\"\n",
        "El numero de Olivia López es:\t  +54 11 2928-0030\n",
        "El numero de Santino Pérez es:\t  11 48210500\n",
        "El numero de Valentino Pérez es:\t+54 011 23754721\n",
        "El numero de Juana Pérez es:\t    11 2465-9913\n",
        "El numero de Benjamín López es:\t  261 33533018\n",
        "El numero de Lautaro González es:\t11 42949480\n",
        "El numero de Emma Díaz es:\t      +54 011 3791-9129\n",
        "El numero de Delfina Sánchez es:\t341 4144-9474\n",
        "El numero de Thiago Rodríguez es:11 1131-7384\n",
        "El numero de Ignacio López es:\t  +54 376 24393385\n",
        "El numero de Benicio Martínez es:\t+54 11 19454669\n",
        "El numero de Martina González es:\t11 7752-9870\n",
        "El numero de Jazmin Romero es:\t  358 32540780\n",
        "El numero de Isabella Martínez es: +54 011 2994-1986\n",
        "El numero de Lorenzo Pérez es:\t  261 1650-5939\n",
        "\"\"\""
      ],
      "metadata": {
        "id": "KeVH9chmvWLm"
      },
      "execution_count": null,
      "outputs": []
    },
    {
      "cell_type": "markdown",
      "source": [
        "### Ejercicio 2.a\n",
        "Dado el siguiente texto, extraé todas las fechas en formato dd/mm/aaaa:"
      ],
      "metadata": {
        "id": "XB3_u_fbvagG"
      }
    },
    {
      "cell_type": "code",
      "source": [
        "texto = \"Nací el 22/03/1990 y mi hermano el 15/06/1995. Mi madre nació el 12/11/1965.\"\n"
      ],
      "metadata": {
        "id": "jKweqyiEvaLX"
      },
      "execution_count": null,
      "outputs": []
    },
    {
      "cell_type": "markdown",
      "source": [
        "### Ejercicio 2.a\n",
        "Crear una regex capaz de obtener las fechas con formato:\n",
        "- dd/mm/aaaa (solo 20** o 19**): '15/04/2013' o '27/11/1987' \n",
        "- dd/mm/aa: '11/02/13' o '04/12/21' "
      ],
      "metadata": {
        "id": "eDTYPyWKXHyM"
      }
    },
    {
      "cell_type": "code",
      "source": [
        "texto = \"\"\"En estos ultimos 10 años realice distintos viajes. \n",
        "El primero fue a Madrid el 12/03/14 y volvi el 28/04/14.\n",
        "Mi siguiente destino fue Los Angeles el 19/05/15, me quede por 1 año y 3 meses hasta el 05/08/2016.\n",
        "Estuve un tiempo sin viajar hasta que el 11/11/2019 me fui a Venecia y volvi el 02/12/19.\n",
        "Mis padres viajaron por Europa en 20/09/1994.\n",
        "Y el 16/10/1999 volaron a Japon.\n",
        "\"\"\"\n"
      ],
      "metadata": {
        "id": "vLdJOKLOzkiA"
      },
      "execution_count": null,
      "outputs": []
    },
    {
      "cell_type": "markdown",
      "source": [
        "### Ejercicio 3:\n",
        "Crear una función que encuentre todas las direcciones de correo electrónico en un texto dado. Las direcciones de correo electrónico deben tener el siguiente formato: \"usuario@dominio.com\". El dominio puede ser cualquier combinación de letras, números y guiones. Probá la función con el siguiente texto:"
      ],
      "metadata": {
        "id": "R3hNoToMzkyz"
      }
    },
    {
      "cell_type": "code",
      "source": [
        "texto = \"Hola, mi correo electrónico es juan.perez@gmail.com. Si no me puedes contactar allí, intenta en juan.perez@ejemplo.com.ar\"\n"
      ],
      "metadata": {
        "id": "EYorhs5w1AaL"
      },
      "execution_count": null,
      "outputs": []
    },
    {
      "cell_type": "markdown",
      "source": [
        "### Ejercicio 4:\n",
        "Dado el siguiente texto, extraé todos los números de identificación que sigan el siguiente patrón: dos letras mayúsculas seguidas de 6 dígitos:"
      ],
      "metadata": {
        "id": "q_w8cejK0-H1"
      }
    },
    {
      "cell_type": "code",
      "source": [
        "texto = \"Los números de identificación son AB123456, CD654321 y EF987654.\"\n"
      ],
      "metadata": {
        "id": "tpnZhnI-1Dxn"
      },
      "execution_count": null,
      "outputs": []
    },
    {
      "cell_type": "markdown",
      "source": [
        "### Ejercicio 5:\n",
        "Dado el siguiente texto que contiene una lista de nombres y apellidos, extraé solamente los apellidos:"
      ],
      "metadata": {
        "id": "1WL-4Sq61FrU"
      }
    },
    {
      "cell_type": "code",
      "source": [
        "texto = \"Juan Pérez, María Rodríguez, Carlos González, Laura García\"\n"
      ],
      "metadata": {
        "id": "rjkWm-GZ1GIF"
      },
      "execution_count": null,
      "outputs": []
    },
    {
      "cell_type": "markdown",
      "source": [
        "### Ejercicio 6:\n",
        "Creá una función que encuentre todos los enlaces a sitios web en un texto dado. Los enlaces deben comenzar con \"http://\" o \"https://\" y continuar con cualquier combinación de letras, números y algunos caracteres especiales como \"/\", \".\", \"-\" y \"_\". Probá la función con el siguiente texto:"
      ],
      "metadata": {
        "id": "AylfFpxX1aBc"
      }
    },
    {
      "cell_type": "code",
      "source": [
        "texto = \"Visita nuestra página web en https://www.ejemplo.com o síguenos en nuestras redes sociales: https://www.facebook.com/ejemplo y https://twitter.com/ejemplo\"\n"
      ],
      "metadata": {
        "id": "Jarct1Kq1ps4"
      },
      "execution_count": null,
      "outputs": []
    },
    {
      "cell_type": "markdown",
      "source": [
        "### Ejercicio 7:\n",
        "Dado el siguiente texto que contiene información sobre productos y sus precios, extraé todos los precios en formato decimal (por ejemplo, 12.50):"
      ],
      "metadata": {
        "id": "XNkI3tA41Z6c"
      }
    },
    {
      "cell_type": "code",
      "source": [
        "texto = \"Producto 1: $10.99, Producto 2: $15.50, Producto 3: $25.00, Producto 4: $8.45\"\n"
      ],
      "metadata": {
        "id": "xX-4rL0V1qmI"
      },
      "execution_count": null,
      "outputs": []
    },
    {
      "cell_type": "markdown",
      "source": [
        "### Ejercicio 8:\n",
        "Dado el siguiente texto, extraé todos los números de pasaporte que sigan el siguiente patrón: tres letras mayúsculas seguidas de un guión y 6 dígitos. Sin embargo, sólo considerá los números de pasaporte válidos si están precedidos por la palabra \"Pasaporte\" y seguidos por la fecha de vencimiento en formato dd/mm/aaaa."
      ],
      "metadata": {
        "id": "xZncbsQA1rxL"
      }
    },
    {
      "cell_type": "code",
      "source": [
        "texto = \"\"\"\n",
        "Pasaporte ABC-123456 vence el 23/04/2028\n",
        "Pasaporte DEF-654321 vence el 30/09/2025\n",
        "ABC-123456 vence el 23/04/2028\n",
        "Pasaporte GHI-987654 vence el 15/01/2023\n",
        "Pasaporte JKL-246810 15/01/2023\n",
        "Pasaporte MNO-135790 vence el 11/11/2022\n",
        "\"\"\"\n"
      ],
      "metadata": {
        "id": "KIaznRiR1qe3"
      },
      "execution_count": null,
      "outputs": []
    },
    {
      "cell_type": "markdown",
      "source": [
        "## OS y funciones"
      ],
      "metadata": {
        "id": "RXre_orK1yy8"
      }
    },
    {
      "cell_type": "code",
      "source": [
        "#@title Descargar archivos\n",
        "%%capture\n",
        "!wget -O Expo_2021.zip https://unket.s3.sa-east-1.amazonaws.com/data/Expo_2021.zip\n",
        "import zipfile\n",
        "import os\n",
        "\n",
        "dir_path = 'Expo_2021'\n",
        "zip_name = dir_path + '.zip'\n",
        "# Extraemos en la nueva carpeta\n",
        "with zipfile.ZipFile(zip_name, \"r\") as zip_ref:\n",
        "  zip_ref.extractall()\n",
        "# Eliminamos el archivo .zip\n",
        "os.remove(zip_name)\n",
        "\n",
        "for name in os.listdir(dir_path):\n",
        "  file_path = os.path.join(dir_path, name)\n",
        "\n",
        "  with zipfile.ZipFile(file_path, 'r') as zip_ref:\n",
        "    zip_ref.extractall(file_path.replace('.zip', ''))\n",
        "\n",
        "  # Eliminamos el archivo .zip\n",
        "  os.remove(file_path)"
      ],
      "metadata": {
        "cellView": "form",
        "id": "4FDNQFwtxVNU"
      },
      "execution_count": null,
      "outputs": []
    },
    {
      "cell_type": "markdown",
      "source": [
        "### Ejercicio 1\n",
        "Creá una función que reciba un directorio como argumento e imprima la cantidad de archivos y carpetas que contiene. Probá la función en el directorio actual.\n"
      ],
      "metadata": {
        "id": "X8BXFRJm13ve"
      }
    },
    {
      "cell_type": "code",
      "source": [],
      "metadata": {
        "id": "VDeXFcgf1yOO"
      },
      "execution_count": null,
      "outputs": []
    },
    {
      "cell_type": "markdown",
      "source": [
        "### Ejercicio 2 \n",
        "\n",
        "Creá una función que tome una lista de nombres de archivo y una extensión como argumentos. La función debe crear una nueva carpeta con el nombre de la extensión y mover todos los archivos con esa extensión a la nueva carpeta. \n",
        "\n",
        "Nota: \n",
        "- Probá la función con algunos archivos en tu directorio actual.\n",
        "- Podes utilizar la funcion `move` de la libreria `shutil` que viene integrada en python."
      ],
      "metadata": {
        "id": "_UKNotPK14zh"
      }
    },
    {
      "cell_type": "code",
      "source": [],
      "metadata": {
        "id": "Ex8S9l0l18_8"
      },
      "execution_count": null,
      "outputs": []
    },
    {
      "cell_type": "markdown",
      "source": [
        "### Ejercicio 3 \n",
        "\n",
        "Creá una función que reciba un directorio y una palabra clave como argumentos. La función debe buscar todos los archivos de texto (.txt) en el directorio y sus subdirectorios que contengan la palabra clave y devolver una lista con las rutas de esos archivos."
      ],
      "metadata": {
        "id": "z6XXC9Dx16nk"
      }
    },
    {
      "cell_type": "code",
      "source": [],
      "metadata": {
        "id": "38ADT62U-_15"
      },
      "execution_count": null,
      "outputs": []
    },
    {
      "cell_type": "markdown",
      "source": [
        "### Ejercicio 4 \n",
        "\n",
        "Creá una función que reciba una ruta de archivo y devuelva el tipo de archivo ('csv', 'sav', 'dta') según su extensión. Utilizá la función en algunos archivos de su directorio para verificar que funcione correctamente."
      ],
      "metadata": {
        "id": "o3acOTE7_BK3"
      }
    },
    {
      "cell_type": "code",
      "source": [],
      "metadata": {
        "id": "gpzWpzJD_CK1"
      },
      "execution_count": null,
      "outputs": []
    }
  ]
}
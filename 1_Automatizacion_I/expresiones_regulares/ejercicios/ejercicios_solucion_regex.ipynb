{
  "nbformat": 4,
  "nbformat_minor": 0,
  "metadata": {
    "colab": {
      "provenance": []
    },
    "kernelspec": {
      "name": "python3",
      "display_name": "Python 3"
    },
    "language_info": {
      "name": "python"
    }
  },
  "cells": [
    {
      "cell_type": "markdown",
      "source": [
        "# Ejercitacion extra para la clase del curso de Automatizacion y web scraping\n",
        "Fecha: 18/04/2023"
      ],
      "metadata": {
        "id": "jznJuychWuEU"
      }
    },
    {
      "cell_type": "code",
      "execution_count": null,
      "metadata": {
        "id": "kiKcWwmvWhJc"
      },
      "outputs": [],
      "source": [
        "import re\n",
        "import os"
      ]
    },
    {
      "cell_type": "markdown",
      "source": [
        "## Regex"
      ],
      "metadata": {
        "id": "0-Ta9Zla1xIi"
      }
    },
    {
      "cell_type": "markdown",
      "source": [
        "### Ejercicio 1.a\n",
        "\n",
        "Dado el siguiente texto, extraé todos los números de teléfono que tengan un código de área (2 dígitos) seguidos por el número de teléfono (8 dígitos):"
      ],
      "metadata": {
        "id": "8hhSyeXpuYsN"
      }
    },
    {
      "cell_type": "code",
      "source": [
        "texto = \"Mis números de teléfono son 1112345678, 2298765432 y 3412345678\"\n",
        "\n",
        "patron = r'\\b\\d{2}\\d{8}\\b'\n",
        "telefonos = re.findall(patron, texto)\n",
        "print(telefonos)"
      ],
      "metadata": {
        "id": "3U_2NnXvusVO",
        "colab": {
          "base_uri": "https://localhost:8080/"
        },
        "outputId": "75911093-be0f-4639-8950-028c58f17017"
      },
      "execution_count": null,
      "outputs": [
        {
          "output_type": "stream",
          "name": "stdout",
          "text": [
            "['1112345678', '2298765432', '3412345678']\n"
          ]
        }
      ]
    },
    {
      "cell_type": "markdown",
      "source": [
        "### Ejercicio 1.b\n",
        "Definir una regex para capturar estos 3 formatos de numeros de argentina:\n",
        "\n",
        "\\#\\# = codigo de area de 2 o 3 digitos\n",
        "- +54 ## \\*\\*\\*\\*-\\*\\*\\*\\*\n",
        "- +54 ## \\*\\*\\*\\*\\*\\*\\*\\*\n",
        "- ##\\*\\*\\*\\*-\\*\\*\\*\\*\n"
      ],
      "metadata": {
        "id": "rHJZNl2MZVNY"
      }
    },
    {
      "cell_type": "code",
      "source": [
        "texto = \"\"\"\n",
        "El numero de Olivia López es:\t  +54 11 2928-0030\n",
        "El numero de Santino Pérez es:\t  11 48210500\n",
        "El numero de Valentino Pérez es:\t+54 011 23754721\n",
        "El numero de Juana Pérez es:\t    11 2465-9913\n",
        "El numero de Benjamín López es:\t  261 33533018\n",
        "El numero de Lautaro González es:\t11 42949480\n",
        "El numero de Emma Díaz es:\t      +54 011 3791-9129\n",
        "El numero de Delfina Sánchez es:\t341 4144-9474\n",
        "El numero de Thiago Rodríguez es: 111131-7384\n",
        "El numero de Ignacio López es:\t  +54 376 24393385\n",
        "El numero de Benicio Martínez es:\t+54 11 19454669\n",
        "El numero de Martina González es:\t11 7752-9870\n",
        "El numero de Jazmin Romero es:\t  358 32540780\n",
        "El numero de Isabella Martínez es: +54 011 2994-1986\n",
        "El numero de Lorenzo Pérez es:\t  261 1650-5939\n",
        "\"\"\"\n",
        "\n",
        "patron = r'(?:\\+54 )?\\d{2,3} ?\\d{4}-?\\d{4}'\n",
        "numeros = re.findall(patron, texto)\n",
        "print(len(numeros))\n",
        "print(numeros)"
      ],
      "metadata": {
        "id": "KeVH9chmvWLm",
        "colab": {
          "base_uri": "https://localhost:8080/"
        },
        "outputId": "e0f6cb21-6d25-4c37-f405-9359d520084f"
      },
      "execution_count": null,
      "outputs": [
        {
          "output_type": "stream",
          "name": "stdout",
          "text": [
            "15\n",
            "['+54 11 2928-0030', '11 48210500', '+54 011 23754721', '11 2465-9913', '261 33533018', '11 42949480', '+54 011 3791-9129', '341 4144-9474', '111131-7384', '+54 376 24393385', '+54 11 19454669', '11 7752-9870', '358 32540780', '+54 011 2994-1986', '261 1650-5939']\n"
          ]
        }
      ]
    },
    {
      "cell_type": "markdown",
      "source": [
        "### Ejercicio 2.a\n",
        "Dado el siguiente texto, extraé todas las fechas en formato dd/mm/aaaa:"
      ],
      "metadata": {
        "id": "XB3_u_fbvagG"
      }
    },
    {
      "cell_type": "code",
      "source": [
        "texto = \"Nací el 22/03/1990 y mi hermano el 15/06/1995. Mi madre nació el 12/11/1965.\"\n",
        "\n",
        "patron = r'\\b\\d{2}/\\d{2}/\\d{4}\\b'\n",
        "fechas = re.findall(patron, texto)\n",
        "print(fechas)"
      ],
      "metadata": {
        "id": "jKweqyiEvaLX"
      },
      "execution_count": null,
      "outputs": []
    },
    {
      "cell_type": "markdown",
      "source": [
        "### Ejercicio 2.a\n",
        "Crear una regex capaz de obtener las fechas con formato:\n",
        "- dd/mm/aaaa (solo 20** o 19**): '15/04/2013' o '27/11/1987' \n",
        "- dd/mm/aa: '11/02/13' o '04/12/21' "
      ],
      "metadata": {
        "id": "eDTYPyWKXHyM"
      }
    },
    {
      "cell_type": "code",
      "source": [
        "texto = \"\"\"En estos ultimos 10 años realice distintos viajes. \n",
        "El primero fue a Madrid el 12/03/14 y volvi el 28/04/14.\n",
        "Mi siguiente destino fue Los Angeles el 19/05/15, me quede por 1 año y 3 meses hasta el 05/08/2016.\n",
        "Estuve un tiempo sin viajar hasta que el 11/11/2019 me fui a Venecia y volvi el 02/12/19.\n",
        "Mis padres viajaron por Europa en 20/09/1994.\n",
        "Y el 16/10/1999 volaron a Japon.\n",
        "\"\"\"\n",
        "\n",
        "patron = r'\\d{2}/\\d{2}/(?:20|19)?\\d{2}'\n",
        "fechas = re.findall(patron, texto)\n",
        "print(fechas)"
      ],
      "metadata": {
        "id": "vLdJOKLOzkiA",
        "colab": {
          "base_uri": "https://localhost:8080/"
        },
        "outputId": "88485751-ddda-4032-b80f-2854df7bca20"
      },
      "execution_count": null,
      "outputs": [
        {
          "output_type": "stream",
          "name": "stdout",
          "text": [
            "['12/03/14', '28/04/14', '19/05/15', '05/08/2016', '11/11/2019', '02/12/19', '20/09/1994', '16/10/1999']\n"
          ]
        }
      ]
    },
    {
      "cell_type": "markdown",
      "source": [
        "### Ejercicio 3:\n",
        "Crear una función que encuentre todas las direcciones de correo electrónico en un texto dado. Las direcciones de correo electrónico deben tener el siguiente formato: \"usuario@dominio.com\". El dominio puede ser cualquier combinación de letras, números y guiones. Probá la función con el siguiente texto:"
      ],
      "metadata": {
        "id": "R3hNoToMzkyz"
      }
    },
    {
      "cell_type": "code",
      "source": [
        "def buscar_correos(texto):\n",
        "    patron = r'\\b[\\w.-]+@[\\w.-]+\\.\\w+\\b'\n",
        "    return re.findall(patron, texto)\n",
        "\n",
        "texto = \"Hola, mi correo electrónico es juan.perez@gmail.com. Si no me puedes contactar allí, intenta en juan.perez@ejemplo.com.ar\"\n",
        "\n",
        "correos = buscar_correos(texto)\n",
        "print(correos)"
      ],
      "metadata": {
        "id": "EYorhs5w1AaL",
        "colab": {
          "base_uri": "https://localhost:8080/"
        },
        "outputId": "64bddeef-ffa4-46b1-d748-24d08a496166"
      },
      "execution_count": null,
      "outputs": [
        {
          "output_type": "stream",
          "name": "stdout",
          "text": [
            "['juan.perez@gmail.com', 'juan.perez@ejemplo.com.ar']\n"
          ]
        }
      ]
    },
    {
      "cell_type": "markdown",
      "source": [
        "### Ejercicio 4:\n",
        "Dado el siguiente texto, extraé todos los números de identificación que sigan el siguiente patrón: dos letras mayúsculas seguidas de 6 dígitos:"
      ],
      "metadata": {
        "id": "q_w8cejK0-H1"
      }
    },
    {
      "cell_type": "code",
      "source": [
        "texto = \"Los números de identificación son AB123456, CD654321 y EF987654.\"\n",
        "\n",
        "patron = r'\\b[A-Z]{2}\\d{6}\\b'\n",
        "identificaciones = re.findall(patron, texto)\n",
        "print(identificaciones)"
      ],
      "metadata": {
        "id": "tpnZhnI-1Dxn",
        "colab": {
          "base_uri": "https://localhost:8080/"
        },
        "outputId": "de8628e3-aa02-424c-d01d-ffad61718981"
      },
      "execution_count": null,
      "outputs": [
        {
          "output_type": "stream",
          "name": "stdout",
          "text": [
            "['AB123456', 'CD654321', 'EF987654']\n"
          ]
        }
      ]
    },
    {
      "cell_type": "markdown",
      "source": [
        "### Ejercicio 5:\n",
        "Dado el siguiente texto que contiene una lista de nombres y apellidos, extraé solamente los apellidos:"
      ],
      "metadata": {
        "id": "1WL-4Sq61FrU"
      }
    },
    {
      "cell_type": "code",
      "source": [
        "texto = \"Juan Pérez, María Rodríguez, Carlos González, Laura García\"\n",
        "\n",
        "patron = r'\\w+\\s(\\w+)\\b'\n",
        "apellidos = re.findall(patron, texto)\n",
        "print(apellidos)"
      ],
      "metadata": {
        "id": "rjkWm-GZ1GIF",
        "colab": {
          "base_uri": "https://localhost:8080/"
        },
        "outputId": "0afb1361-e9e3-4ca7-eff7-8eaf0e54b352"
      },
      "execution_count": null,
      "outputs": [
        {
          "output_type": "stream",
          "name": "stdout",
          "text": [
            "['Pérez', 'Rodríguez', 'González', 'García']\n"
          ]
        }
      ]
    },
    {
      "cell_type": "markdown",
      "source": [
        "### Ejercicio 6:\n",
        "Creá una función que encuentre todos los enlaces a sitios web en un texto dado. Los enlaces deben comenzar con \"http://\" o \"https://\" y continuar con cualquier combinación de letras, números y algunos caracteres especiales como \"/\", \".\", \"-\" y \"_\". Probá la función con el siguiente texto:"
      ],
      "metadata": {
        "id": "AylfFpxX1aBc"
      }
    },
    {
      "cell_type": "code",
      "source": [
        "def buscar_enlaces(texto):\n",
        "    patron = r'https?://[\\w.-]+(?:/[\\w.-]+)*'\n",
        "    return re.findall(patron, texto)\n",
        "    \n",
        "texto = \"Visita nuestra página web en https://www.ejemplo.com o síguenos en nuestras redes sociales: https://www.facebook.com/ejemplo y https://twitter.com/ejemplo\"\n",
        "\n",
        "enlaces = buscar_enlaces(texto)\n",
        "print(enlaces)"
      ],
      "metadata": {
        "id": "Jarct1Kq1ps4",
        "colab": {
          "base_uri": "https://localhost:8080/"
        },
        "outputId": "c8a818ea-74b1-4d2b-d2b8-785cf178d829"
      },
      "execution_count": null,
      "outputs": [
        {
          "output_type": "stream",
          "name": "stdout",
          "text": [
            "['https://www.ejemplo.com', 'https://www.facebook.com/ejemplo', 'https://twitter.com/ejemplo']\n"
          ]
        }
      ]
    },
    {
      "cell_type": "markdown",
      "source": [
        "### Ejercicio 7:\n",
        "Dado el siguiente texto que contiene información sobre productos y sus precios, extraé todos los precios en formato decimal (por ejemplo, 12.50):"
      ],
      "metadata": {
        "id": "XNkI3tA41Z6c"
      }
    },
    {
      "cell_type": "code",
      "source": [
        "texto = \"Producto 1: $10.99, Producto 2: $15.50, Producto 3: $25.00, Producto 4: $8.45\"\n",
        "\n",
        "patron = r'\\$\\d+\\.\\d{2}'\n",
        "precios = re.findall(patron, texto)\n",
        "print(precios)"
      ],
      "metadata": {
        "id": "xX-4rL0V1qmI",
        "colab": {
          "base_uri": "https://localhost:8080/"
        },
        "outputId": "26e05b25-d682-49ee-ec06-b5987013623b"
      },
      "execution_count": null,
      "outputs": [
        {
          "output_type": "stream",
          "name": "stdout",
          "text": [
            "['$10.99', '$15.50', '$25.00', '$8.45']\n"
          ]
        }
      ]
    },
    {
      "cell_type": "markdown",
      "source": [
        "### Ejercicio 8:\n",
        "Dado el siguiente texto, extraé todos los números de pasaporte que sigan el siguiente patrón: tres letras mayúsculas seguidas de un guión y 6 dígitos. Sin embargo, sólo considerá los números de pasaporte válidos si están precedidos por la palabra \"Pasaporte\" y seguidos por la fecha de vencimiento en formato dd/mm/aaaa."
      ],
      "metadata": {
        "id": "xZncbsQA1rxL"
      }
    },
    {
      "cell_type": "code",
      "source": [
        "texto = \"\"\"\n",
        "Pasaporte ABC-123456 vence el 23/04/2028\n",
        "Pasaporte DEF-654321 vence el 30/09/2025\n",
        "ABC-123456 vence el 23/04/2028\n",
        "Pasaporte GHI-987654 vence el 15/01/2023\n",
        "Pasaporte JKL-246810 15/01/2023\n",
        "Pasaporte MNO-135790 vence el 11/11/2022\n",
        "\"\"\"\n",
        "\n",
        "patron = r'(?<=Pasaporte\\s)[A-Z]{3}-\\d{6}(?=\\s+?vence el\\s\\d{2}/\\d{2}/\\d{4})'\n",
        "pasaportes = re.findall(patron, texto)\n",
        "print(pasaportes)"
      ],
      "metadata": {
        "id": "KIaznRiR1qe3",
        "colab": {
          "base_uri": "https://localhost:8080/"
        },
        "outputId": "066613cc-5fbb-412b-9151-60f9b34dd2b3"
      },
      "execution_count": null,
      "outputs": [
        {
          "output_type": "stream",
          "name": "stdout",
          "text": [
            "['ABC-123456', 'DEF-654321', 'GHI-987654', 'MNO-135790']\n"
          ]
        }
      ]
    },
    {
      "cell_type": "markdown",
      "source": [
        "## OS y funciones"
      ],
      "metadata": {
        "id": "RXre_orK1yy8"
      }
    },
    {
      "cell_type": "code",
      "source": [
        "#@title Descargar archivos\n",
        "%%capture\n",
        "!wget -O Expo_2021.zip https://unket.s3.sa-east-1.amazonaws.com/data/Expo_2021.zip\n",
        "import zipfile\n",
        "import os\n",
        "\n",
        "dir_path = 'Expo_2021'\n",
        "zip_name = dir_path + '.zip'\n",
        "# Extraemos en la nueva carpeta\n",
        "with zipfile.ZipFile(zip_name, \"r\") as zip_ref:\n",
        "  zip_ref.extractall()\n",
        "# Eliminamos el archivo .zip\n",
        "os.remove(zip_name)\n",
        "\n",
        "for name in os.listdir(dir_path):\n",
        "  file_path = os.path.join(dir_path, name)\n",
        "\n",
        "  with zipfile.ZipFile(file_path, 'r') as zip_ref:\n",
        "    zip_ref.extractall(file_path.replace('.zip', ''))\n",
        "\n",
        "  # Eliminamos el archivo .zip\n",
        "  os.remove(file_path)"
      ],
      "metadata": {
        "id": "xkNhESxUbHAm",
        "cellView": "form"
      },
      "execution_count": null,
      "outputs": []
    },
    {
      "cell_type": "markdown",
      "source": [
        "### Ejercicio 1\n",
        "Creá una función que reciba un directorio como argumento e imprima la cantidad de archivos y carpetas que contiene. Probá la función en el directorio actual.\n"
      ],
      "metadata": {
        "id": "X8BXFRJm13ve"
      }
    },
    {
      "cell_type": "code",
      "source": [
        "def count_files_dirs(path):\n",
        "  num_files = 0\n",
        "  num_dirs = 0\n",
        "\n",
        "  for name in os.listdir(path):\n",
        "    if os.path.isfile(os.path.join(path, name)):\n",
        "        num_files += 1\n",
        "    elif os.path.isdir(os.path.join(path, name)):\n",
        "        num_dirs += 1\n",
        "\n",
        "  print('Archivos:', num_files)\n",
        "  print('Carpetas:', num_dirs)\n",
        "\n",
        "count_files_dirs('.')"
      ],
      "metadata": {
        "id": "VDeXFcgf1yOO",
        "colab": {
          "base_uri": "https://localhost:8080/"
        },
        "outputId": "7eb32dea-3df3-42ed-d423-f991734d0012"
      },
      "execution_count": null,
      "outputs": [
        {
          "output_type": "stream",
          "name": "stdout",
          "text": [
            "Archivos: 0\n",
            "Carpetas: 3\n"
          ]
        }
      ]
    },
    {
      "cell_type": "markdown",
      "source": [
        "### Ejercicio 2 \n",
        "\n",
        "Creá una función que tome una lista de nombres de archivo y una extensión como argumentos. La función debe crear una nueva carpeta con el nombre de la extensión y mover todos los archivos con esa extensión a la nueva carpeta. \n",
        "\n",
        "Nota: \n",
        "- Probá la función con algunos archivos en tu directorio actual.\n",
        "- Podes utilizar la funcion `move` de la libreria `shutil` que viene integrada en python."
      ],
      "metadata": {
        "id": "_UKNotPK14zh"
      }
    },
    {
      "cell_type": "code",
      "source": [
        "import shutil"
      ],
      "metadata": {
        "id": "mq8rISFtJOoP"
      },
      "execution_count": null,
      "outputs": []
    },
    {
      "cell_type": "code",
      "source": [
        "def move_files_with_extension(file_list, extension):\n",
        "  # Se utiliza el slice para \n",
        "  folder_name = extension[1:] + '_folder'\n",
        "\n",
        "  if not os.path.exists(folder_name):\n",
        "    os.makedirs(folder_name)\n",
        "\n",
        "  for file_obj in file_list:\n",
        "    if file_obj.endswith(extension):\n",
        "      file_name = file_obj.split('/')[-1]\n",
        "      shutil.move(file_obj, os.path.join(folder_name, file_name))\n",
        "\n",
        "dir_path = 'sample_data'\n",
        "files = [os.path.join(dir_path, file_p) for file_p in os.listdir(dir_path)]\n",
        "\n",
        "move_files_with_extension(files, '.csv')"
      ],
      "metadata": {
        "id": "Ex8S9l0l18_8"
      },
      "execution_count": null,
      "outputs": []
    },
    {
      "cell_type": "markdown",
      "source": [
        "### Ejercicio 3 \n",
        "\n",
        "Creá una función que reciba un directorio y una palabra clave como argumentos. La función debe buscar todos los archivos de texto (.txt) en el directorio y sus subdirectorios que contengan la palabra clave y devolver una lista con las rutas de esos archivos."
      ],
      "metadata": {
        "id": "z6XXC9Dx16nk"
      }
    },
    {
      "cell_type": "code",
      "source": [
        "def buscar_archivos(directorio, palabra_clave):\n",
        "  archivos_encontrados = []\n",
        "  for raiz, _, archivos in os.walk(directorio):\n",
        "    for archivo in archivos:\n",
        "      \n",
        "      if archivo.endswith('.txt'):\n",
        "        with open(os.path.join(raiz, archivo), 'r', encoding='utf-8') as f:\n",
        "          contenido = f.read()\n",
        "          if palabra_clave in contenido:\n",
        "            archivos_encontrados.append(os.path.join(raiz, archivo))\n",
        "            \n",
        "  return archivos_encontrados\n"
      ],
      "metadata": {
        "id": "38ADT62U-_15"
      },
      "execution_count": null,
      "outputs": []
    },
    {
      "cell_type": "markdown",
      "source": [
        "### Ejercicio 4 \n",
        "\n",
        "Creá una función que reciba una ruta de archivo y devuelva el tipo de archivo ('csv', 'sav', 'dta') según su extensión. Utilizá la función en algunos archivos de su directorio para verificar que funcione correctamente."
      ],
      "metadata": {
        "id": "o3acOTE7_BK3"
      }
    },
    {
      "cell_type": "code",
      "source": [
        "def tipo_de_archivo(ruta):\n",
        "\n",
        "  # Se asegura que el archivo exista\n",
        "  if not os.path.isfile(ruta):\n",
        "    return None\n",
        "\n",
        "  _, extension = os.path.splitext(ruta)\n",
        "\n",
        "  # Se debe verificar que no es None para poder realizar el slice\n",
        "  if extension:\n",
        "    # Extension sin punto inicial\n",
        "    return extension[1:]\n",
        "  else:\n",
        "    return None\n",
        "  \n",
        "\n",
        "# Test\n",
        "dir_path = 'Expo_2021/Diciembre'\n",
        "files = [os.path.join(dir_path, file_path) for file_path in os.listdir(dir_path)]\n",
        "\n",
        "for file_path in files:\n",
        "  print(f'El archivo {file_path} tiene un tipo de dato de {tipo_de_archivo(file_path)}')\n"
      ],
      "metadata": {
        "id": "gpzWpzJD_CK1",
        "colab": {
          "base_uri": "https://localhost:8080/"
        },
        "outputId": "10483750-e7e0-4b2d-c932-f2f5fe3f8ad1"
      },
      "execution_count": null,
      "outputs": [
        {
          "output_type": "stream",
          "name": "stdout",
          "text": [
            "El archivo Expo_2021/Diciembre/Diciembre.sav tiene un tipo de dato de sav\n",
            "El archivo Expo_2021/Diciembre/Diciembre.dta tiene un tipo de dato de dta\n",
            "El archivo Expo_2021/Diciembre/Diciembre.csv tiene un tipo de dato de csv\n"
          ]
        }
      ]
    }
  ]
}
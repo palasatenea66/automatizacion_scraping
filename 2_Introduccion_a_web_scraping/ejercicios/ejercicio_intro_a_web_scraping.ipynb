{
  "nbformat": 4,
  "nbformat_minor": 0,
  "metadata": {
    "colab": {
      "provenance": []
    },
    "kernelspec": {
      "name": "python3",
      "display_name": "Python 3"
    },
    "language_info": {
      "name": "python"
    }
  },
  "cells": [
    {
      "cell_type": "markdown",
      "source": [
        "# Ejercicios Scraping I"
      ],
      "metadata": {
        "id": "8L2CaHokb-BD"
      }
    },
    {
      "cell_type": "code",
      "source": [
        "from bs4 import BeautifulSoup\n",
        "import requests\n",
        "import os\n",
        "import re"
      ],
      "metadata": {
        "id": "Py6GP56_U4g7"
      },
      "execution_count": null,
      "outputs": []
    },
    {
      "cell_type": "markdown",
      "source": [
        "## 1) Titulos de noticias\n",
        "Descargar la pagina principal de noticias de Tecnología. Utilizar Regex para obtener los titulos de las noticias.\n",
        "\n",
        "Ayuda: \n",
        "- los titulos estan encerrados por el tag `h2`\n",
        "- No tiene que contenter el nombre de otra categoria"
      ],
      "metadata": {
        "id": "CqM0E_jPU812"
      }
    },
    {
      "cell_type": "code",
      "execution_count": null,
      "metadata": {
        "id": "WzSJem6-TD4O"
      },
      "outputs": [],
      "source": [
        "infobae_url = 'https://www.infobae.com/tag/tecnologia/'\n",
        "\n"
      ]
    },
    {
      "cell_type": "markdown",
      "source": [
        "## 2) Spinetta\n",
        "\n",
        "Descargar letras de canciones\n",
        "\n",
        "Utilizando beautiful soup descargar todas las canciones de [Spinetta](https://es.wikipedia.org/wiki/Luis_Alberto_Spinetta) que hay en [letras.com](https://www.letras.com/spinetta/)"
      ],
      "metadata": {
        "id": "pQMN9jqjU3JQ"
      }
    },
    {
      "cell_type": "code",
      "source": [
        "letras_url = \"https://www.letras.com\"\n",
        "\n",
        "def descargar_letras(artista):\n",
        "    # COMPLETAR\n",
        "    return\n",
        "        \n",
        "artista = \"luis-alberto-spinetta\"\n",
        "descargar_letras(artista)"
      ],
      "metadata": {
        "id": "e-ZJcJ7AU7r3"
      },
      "execution_count": null,
      "outputs": []
    },
    {
      "cell_type": "markdown",
      "source": [
        "## 3) Datos de la Formula 1"
      ],
      "metadata": {
        "id": "TLfcrGY-VDPa"
      }
    },
    {
      "cell_type": "markdown",
      "source": [
        "### 3.1) Obtener todos los campeones del mundo\n",
        "Utilizando beautiful soup se pide descargar los siguientes datos:\n",
        "- Año del campeonato\n",
        "- Nombre del piloto\n",
        "- Nombre del equipo\n",
        "- Cantidad de carreras\n",
        "- Cantidad de pilotos"
      ],
      "metadata": {
        "id": "SnglT6vTaoB4"
      }
    },
    {
      "cell_type": "code",
      "source": [
        "f1_piloto_url = 'https://pitwall.app/seasons?view=grid'\n"
      ],
      "metadata": {
        "id": "q2zvpmLQVb3M"
      },
      "execution_count": null,
      "outputs": []
    },
    {
      "cell_type": "markdown",
      "source": [
        "### 3.2) Circuitos historicos\n",
        "Utilizando beautiful soup se pide descargar los siguientes datos:\n",
        "- Nombre del circuito\n",
        "- Ubicacion\n",
        "- Cantidad de carreras\n",
        "- Link a la pagina del circuito\n",
        "\n",
        "Ingresando a la pagina del circuito se debe obtener:\n",
        "- El piloto con más victorias\n",
        "- Cantidad de victorias\n",
        "- El piloto con más Pole positions (piloto mas rapido en la clasificación)\n",
        "- Cantidad de Pole positions\n",
        "\n",
        "Nota: es recomendable crear una funcion para scrapear la pagina del circuito y devolver los valores pedidos"
      ],
      "metadata": {
        "id": "3k5YJmjZbF9w"
      }
    },
    {
      "cell_type": "code",
      "source": [
        "f1_circuito_url = 'https://pitwall.app/circuits'\n"
      ],
      "metadata": {
        "id": "6UXUaIRtanQ0"
      },
      "execution_count": null,
      "outputs": []
    }
  ]
}
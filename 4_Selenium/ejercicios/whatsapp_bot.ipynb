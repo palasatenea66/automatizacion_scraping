{
  "cells": [
    {
      "cell_type": "markdown",
      "metadata": {
        "id": "MkTjMfydDd-Z"
      },
      "source": [
        "## Whatsapp Bot\n",
        "\n",
        "La marca de papas fritas Lay's sacó una edición de Messi donde en cada producto viene un código numérico de 5 dígitos. Algunos de estos códigos tienen un premio atribuido, para averiguar si tu código es el ganador hay que enviarles un mensaje de whatsapp con el código. \n",
        "\n",
        "Desarrollá un programa que envie 3 códigos de 5 dígitos al whatsapp del concurso por día. (El concurso solo permite 3 intentos por día)\n",
        "\n",
        "![](https://www.totalmedios.com/img/noticias/2018/06/5b1a72360728b__838x390.jpg)"
      ]
    }
  ],
  "metadata": {
    "kernelspec": {
      "display_name": "Python 3",
      "language": "python",
      "name": "python3"
    },
    "language_info": {
      "codemirror_mode": {
        "name": "ipython",
        "version": 3
      },
      "file_extension": ".py",
      "mimetype": "text/x-python",
      "name": "python",
      "nbconvert_exporter": "python",
      "pygments_lexer": "ipython3",
      "version": "3.6.9"
    },
    "colab": {
      "provenance": []
    }
  },
  "nbformat": 4,
  "nbformat_minor": 0
}
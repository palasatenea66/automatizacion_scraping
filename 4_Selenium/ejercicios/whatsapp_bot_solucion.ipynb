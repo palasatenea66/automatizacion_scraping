{
  "cells": [
    {
      "cell_type": "markdown",
      "metadata": {
        "id": "GBmAvsgGD7Ss"
      },
      "source": [
        "## Whatsapp Bot\n",
        "\n",
        "La marca de papas fritas Lay's sacó una edición de Messi donde en cada producto viene un código numérico de 5 dígitos. Algunos de estos códigos tienen un premio atribuido, para averiguar si tu código es el ganador hay que enviarles un mensaje de whatsapp con el código. \n",
        "\n",
        "Desarrollá un programa que envie 3 códigos de 5 dígitos al whatsapp del concurso por día. (El concurso solo permite 3 intentos por día)\n",
        "\n",
        "![](https://www.totalmedios.com/img/noticias/2018/06/5b1a72360728b__838x390.jpg)"
      ]
    },
    {
      "cell_type": "code",
      "execution_count": null,
      "metadata": {
        "id": "9F68fU0UD7St"
      },
      "outputs": [],
      "source": [
        "from selenium import webdriver \n",
        "from selenium.webdriver.support.ui import WebDriverWait\n",
        "from selenium.webdriver.support import expected_conditions as EC \n",
        "from selenium.webdriver.common.keys import Keys\n",
        "from selenium.webdriver.common.by import By\n",
        "import time\n",
        "import random\n",
        "\n",
        "driver = webdriver.Chrome('chromedriver')\n",
        "  \n",
        "driver.get(\"https://web.whatsapp.com/\")\n",
        "wait = WebDriverWait(driver, 600)"
      ]
    },
    {
      "cell_type": "code",
      "execution_count": null,
      "metadata": {
        "id": "Q4G9FvR6D7Su"
      },
      "outputs": [],
      "source": [
        "target = '\"Tazos Ganadores\"'\n",
        "\n",
        "x_arg = '//span[contains(@title,' + target + ')]'\n",
        "group_title = wait.until(EC.presence_of_element_located((By.XPATH, x_arg)))\n",
        "group_title.click()"
      ]
    },
    {
      "cell_type": "code",
      "execution_count": null,
      "metadata": {
        "id": "FgunAI1nD7Su"
      },
      "outputs": [],
      "source": [
        "inp_xpath = '//*[@id=\"main\"]/footer/div[1]/div[2]/div/div[2]'\n",
        "input_box = wait.until(EC.presence_of_element_located((By.XPATH, inp_xpath)))\n",
        "\n",
        "for _ in range(50):\n",
        "    codigo = \"\".join([random.choice(\"ABCDEFGHIJKLMNOPQRSTUVWXYZ0123456789\") for _ in range(8)])\n",
        "    input_box.send_keys(codigo + Keys.ENTER)"
      ]
    }
  ],
  "metadata": {
    "kernelspec": {
      "display_name": "Python 3",
      "language": "python",
      "name": "python3"
    },
    "language_info": {
      "codemirror_mode": {
        "name": "ipython",
        "version": 3
      },
      "file_extension": ".py",
      "mimetype": "text/x-python",
      "name": "python",
      "nbconvert_exporter": "python",
      "pygments_lexer": "ipython3",
      "version": "3.6.9"
    },
    "colab": {
      "provenance": []
    }
  },
  "nbformat": 4,
  "nbformat_minor": 0
}
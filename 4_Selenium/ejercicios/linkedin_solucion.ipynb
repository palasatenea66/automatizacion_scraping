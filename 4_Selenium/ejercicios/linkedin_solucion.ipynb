{
  "cells": [
    {
      "cell_type": "markdown",
      "id": "1e3ba42a-7ae1-4b24-8380-e931729da0c9",
      "metadata": {
        "id": "1e3ba42a-7ae1-4b24-8380-e931729da0c9"
      },
      "source": [
        "<a href=\"https://colab.research.google.com/github/institutohumai/cursos-python/blob/master/Scraping/3_Selenium_y_xpath/ejercicio/linkedin_solucion.ipynb\" target=\"_parent\"><img src=\"https://colab.research.google.com/assets/colab-badge.svg\" alt=\"Open In Colab\" data-canonical-src=\"https://colab.research.google.com/assets/colab-badge.svg\"></a>"
      ]
    },
    {
      "cell_type": "code",
      "execution_count": null,
      "id": "a9d96ce5-70ab-4d29-ba30-a6a25c17b4f3",
      "metadata": {
        "id": "a9d96ce5-70ab-4d29-ba30-a6a25c17b4f3"
      },
      "outputs": [],
      "source": [
        "# !pip install webdriver_manager"
      ]
    },
    {
      "cell_type": "code",
      "execution_count": null,
      "id": "5ed0af5f-70a5-42a8-9dde-765b4adb39a3",
      "metadata": {
        "id": "5ed0af5f-70a5-42a8-9dde-765b4adb39a3"
      },
      "outputs": [],
      "source": [
        "from webdriver_manager.chrome import ChromeDriverManager\n",
        "from selenium import webdriver\n",
        "from selenium.webdriver.chrome.options import Options\n",
        "from selenium.webdriver.common.by import By\n",
        "\n",
        "class Scraper:\n",
        "    \"\"\"Clase base para scrapear basada en selenium\"\"\"\n",
        "\n",
        "    def __init__(self, user:str, passw:str):\n",
        "        self.user = user\n",
        "        self.passw = passw\n",
        "\n",
        "    def log_in(self):\n",
        "        pass\n",
        "\n",
        "    def upload(self):\n",
        "        pass\n",
        "\n",
        "    @staticmethod\n",
        "    def init_chrome(\n",
        "        headless=False,\n",
        "        no_images=False,\n",
        "        datadir=None,\n",
        "        chrome_path=None,\n",
        "        mobile=False,\n",
        "    ):\n",
        "\n",
        "        chrome_options = Options()\n",
        "        chrome_options.add_argument(\"--headless\") if headless else None\n",
        "        chrome_options.add_argument(f\"user-data-dir={datadir}\") if datadir else None\n",
        "        chrome_options.add_argument(\"start-maximized\")\n",
        "        chrome_options.add_experimental_option(\n",
        "            \"prefs\", {\"profile.managed_default_content_settings.images\": 2}\n",
        "        ) if no_images else None\n",
        "\n",
        "        if mobile:\n",
        "            chrome_options.add_experimental_option(\n",
        "                \"mobileEmulation\",\n",
        "                {\n",
        "                    \"deviceMetrics\": {\"width\": 360, \"height\": 640, \"pixelRatio\": 3.0},\n",
        "                    \"userAgent\": (\n",
        "                        \"Mozilla/5.0 (Linux; Android 9; Redmi Note 7) \"\n",
        "                        \"AppleWebKit/537.36 (KHTML, like Gecko) Chrome/78.0.3904.108 \"\n",
        "                        \"Mobile Safari/537.36\"\n",
        "                    ),\n",
        "                    \"touch\": True,\n",
        "                },\n",
        "            )\n",
        "            chrome_options.add_experimental_option(\"w3c\", False)\n",
        "\n",
        "            useragent = (\n",
        "                \"Mozilla/5.0 (Linux; Android 9; Redmi Note 7) AppleWebKit/537.36 \"\n",
        "                \"(KHTML, like Gecko) Chrome/78.0.3904.108 Mobile Safari/537.36\"\n",
        "            )\n",
        "        else:\n",
        "            useragent = (\n",
        "                \"Mozilla/5.0 (X11; Linux x86_64) AppleWebKit/537.36 (KHTML, like \"\n",
        "                \"Gecko) Chrome/73.0.3683.103 Safari/537.36\"\n",
        "            )\n",
        "            chrome_options.add_argument(\n",
        "                f\"user-agent={useragent}\"\n",
        "            ) if useragent else None\n",
        "\n",
        "        chrome_options.add_argument(\"--no-sandbox\")\n",
        "        chrome_options.add_argument(\"--disable-gpu\")\n",
        "\n",
        "        driver = webdriver.Chrome(\n",
        "            executable_path=ChromeDriverManager().install(),\n",
        "            options=chrome_options,\n",
        "            desired_capabilities=chrome_options.to_capabilities(),\n",
        "        )\n",
        "\n",
        "        # driver.set_window_size(windowsize[0], windowsize[1]) if windowsize else None\n",
        "        print(\"Running Chrome.\")\n",
        "        return driver\n",
        "\n",
        "\n",
        "class Linkedin(Scraper):\n",
        "    def __init__(self, headless=True, *args, **kwargs):\n",
        "        super().__init__(*args, **kwargs)\n",
        "        self.driver = self.init_chrome(headless=headless)\n",
        "        self.base_url = \"https://www.linkedin.com\"\n",
        "\n",
        "    def log_in(self):\n",
        "        # Ingresa usuario\n",
        "        self.driver.get(\"https://www.linkedin.com/login?\")\n",
        "        el = self.driver.find_element(By.XPATH, value=\"session_key\")\n",
        "        el.send_keys(self.user)\n",
        "\n",
        "        # Ingresa password\n",
        "        password = self.driver.find_element(By.XPATH, value=\"session_password\")\n",
        "        password.send_keys(self.passw)\n",
        "\n",
        "        # Click boton loggin\n",
        "        boton_log_in = self.driver.find_element(By.CLASS_NAME, value=\"btn__primary--large\")\n",
        "        boton_log_in.click()\n",
        "\n",
        "    def upload(self, content):\n",
        "        # Click boton iniciar posteo\n",
        "        boton_post = self.driver.find_element(By.XPATH, value=\"//button/span[text()='Start a post']\")\n",
        "        boton_post.click()\n",
        "\n",
        "        # Contenido post\n",
        "        contenido_post = self.driver.find_element(By.XPATH, value=\"//div[@data-placeholder='What do you want to talk about?']\"\n",
        "        )\n",
        "        contenido_post.send_keys(content)\n",
        "\n",
        "        # Boton postear\n",
        "        boton_post2 = self.driver.find_element(By.XPATH, value=\"//span[text()='Post']\")\n",
        "        boton_post2.click()"
      ]
    },
    {
      "cell_type": "code",
      "execution_count": null,
      "id": "e8c11483-3b1f-4c17-98a5-84e8d27fd8a7",
      "metadata": {
        "id": "e8c11483-3b1f-4c17-98a5-84e8d27fd8a7",
        "outputId": "b3f5b195-e47b-4e8f-f553-e2d655aa881a"
      },
      "outputs": [
        {
          "name": "stdin",
          "output_type": "stream",
          "text": [
            " ········\n"
          ]
        },
        {
          "name": "stderr",
          "output_type": "stream",
          "text": [
            "\n",
            "\n",
            "====== WebDriver manager ======\n",
            "Current google-chrome version is 94.0.4606\n",
            "Get LATEST chromedriver version for 94.0.4606 google-chrome\n",
            "Driver [/home/cerebrock/.wdm/drivers/chromedriver/linux64/94.0.4606.113/chromedriver] found in cache\n",
            "<ipython-input-2-1a8b7d2fbc16>:67: DeprecationWarning: executable_path has been deprecated, please pass in a Service object\n",
            "  driver = webdriver.Chrome(\n"
          ]
        },
        {
          "name": "stdout",
          "output_type": "stream",
          "text": [
            "Running Chrome.\n"
          ]
        }
      ],
      "source": [
        "from getpass import getpass\n",
        "\n",
        "lk = Linkedin(headless=False, user='mtsgrinberg@gmail.com', passw=getpass())"
      ]
    },
    {
      "cell_type": "code",
      "execution_count": null,
      "id": "17d13a2c-c2e9-4af8-9210-9d47cd0aa1b4",
      "metadata": {
        "id": "17d13a2c-c2e9-4af8-9210-9d47cd0aa1b4"
      },
      "outputs": [],
      "source": [
        "lk.log_in()"
      ]
    },
    {
      "cell_type": "code",
      "execution_count": null,
      "id": "c8561731-04fe-4fe6-9afe-84f4153c5ef8",
      "metadata": {
        "id": "c8561731-04fe-4fe6-9afe-84f4153c5ef8"
      },
      "outputs": [],
      "source": [
        "lk.upload('Post hecho desde Python con Selenium!')"
      ]
    }
  ],
  "metadata": {
    "kernelspec": {
      "display_name": "Python 3",
      "language": "python",
      "name": "python3"
    },
    "language_info": {
      "codemirror_mode": {
        "name": "ipython",
        "version": 3
      },
      "file_extension": ".py",
      "mimetype": "text/x-python",
      "name": "python",
      "nbconvert_exporter": "python",
      "pygments_lexer": "ipython3",
      "version": "3.8.8"
    },
    "colab": {
      "provenance": []
    }
  },
  "nbformat": 4,
  "nbformat_minor": 5
}